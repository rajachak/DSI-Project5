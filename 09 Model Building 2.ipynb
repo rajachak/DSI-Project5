{
 "cells": [
  {
   "cell_type": "markdown",
   "metadata": {},
   "source": [
    "### 09 Model Building & Grid Searching"
   ]
  },
  {
   "cell_type": "code",
   "execution_count": 3,
   "metadata": {
    "ExecuteTime": {
     "end_time": "2018-03-26T02:53:03.638505Z",
     "start_time": "2018-03-26T02:53:03.342345Z"
    },
    "collapsed": true
   },
   "outputs": [],
   "source": [
    "import pandas as pd\n",
    "import numpy as np\n",
    "from sklearn.model_selection import train_test_split\n",
    "from sklearn.model_selection import KFold, cross_val_score, cross_val_predict\n",
    "from sklearn import metrics\n",
    "from sklearn.ensemble import RandomForestClassifier, BaggingClassifier, ExtraTreesClassifier\n",
    "from sklearn.ensemble import AdaBoostClassifier\n",
    "from sklearn.ensemble import GradientBoostingClassifier\n",
    "from sklearn.preprocessing import StandardScaler\n",
    "# from keras.models import Sequential\n",
    "# from keras.layers import Dense\n",
    "# from keras.optimizers import Adam\n",
    "# from keras.layers import Dropout\n",
    "from sklearn.model_selection import GridSearchCV\n",
    "import csv\n",
    "import matplotlib.pyplot as plt\n",
    "from sklearn.linear_model import LogisticRegression\n",
    "%matplotlib inline\n",
    "%config InlineBackend.figure_format = 'retina'\n",
    "random_state=42"
   ]
  },
  {
   "cell_type": "code",
   "execution_count": 127,
   "metadata": {},
   "outputs": [
    {
     "name": "stdout",
     "output_type": "stream",
     "text": [
      "Requirement already satisfied: xgboost in /Users/joshsungasong/anaconda3/lib/python3.6/site-packages\n",
      "Requirement already satisfied: numpy in /Users/joshsungasong/anaconda3/lib/python3.6/site-packages (from xgboost)\n",
      "Requirement already satisfied: scipy in /Users/joshsungasong/anaconda3/lib/python3.6/site-packages (from xgboost)\n"
     ]
    }
   ],
   "source": [
    "!pip3 install xgboost"
   ]
  },
  {
   "cell_type": "code",
   "execution_count": 126,
   "metadata": {},
   "outputs": [
    {
     "name": "stdout",
     "output_type": "stream",
     "text": [
      "/Users/joshsungasong/anaconda3/envs/tensorflow\n"
     ]
    }
   ],
   "source": [
    "import sys\n",
    "print(sys.base_prefix)"
   ]
  },
  {
   "cell_type": "code",
   "execution_count": 4,
   "metadata": {
    "ExecuteTime": {
     "end_time": "2018-03-26T02:51:49.531172Z",
     "start_time": "2018-03-26T02:51:47.981685Z"
    },
    "collapsed": true
   },
   "outputs": [],
   "source": [
    "import xgboost as xgb\n",
    "from xgboost.sklearn import XGBClassifier "
   ]
  },
  {
   "cell_type": "code",
   "execution_count": 7,
   "metadata": {
    "ExecuteTime": {
     "end_time": "2018-03-26T02:52:34.006756Z",
     "start_time": "2018-03-26T02:52:32.689065Z"
    },
    "collapsed": true
   },
   "outputs": [],
   "source": [
    "model = pd.read_csv('model data snow day.csv')"
   ]
  },
  {
   "cell_type": "code",
   "execution_count": 8,
   "metadata": {},
   "outputs": [
    {
     "data": {
      "text/plain": [
       "Lost                 926\n",
       "Closed Won           295\n",
       "Deal Signed           97\n",
       "Contract Sent         75\n",
       "Presentation          65\n",
       "Invoice Sent          64\n",
       "Proposal Sent         62\n",
       "Qualified Lead        60\n",
       "Research/Donation     27\n",
       "Contract Expired       8\n",
       "Contract Review        3\n",
       "Pilot                  1\n",
       "Name: stage, dtype: int64"
      ]
     },
     "execution_count": 8,
     "metadata": {},
     "output_type": "execute_result"
    }
   ],
   "source": [
    "#feature engineering\n",
    "#engineer a number out of stage\n",
    "model.stage.value_counts()"
   ]
  },
  {
   "cell_type": "markdown",
   "metadata": {},
   "source": [
    "#### Closed, Deal Signed, Invoice Sent = 1; otherwise 0"
   ]
  },
  {
   "cell_type": "code",
   "execution_count": 9,
   "metadata": {
    "ExecuteTime": {
     "end_time": "2018-03-26T02:52:35.265816Z",
     "start_time": "2018-03-26T02:52:35.260527Z"
    },
    "collapsed": true
   },
   "outputs": [],
   "source": [
    "def translate_stage(stage):\n",
    "    if stage in ['Closed Won', 'Deal Signed', 'Invoice Sent']:\n",
    "        return(1)\n",
    "    else:\n",
    "        return (0)"
   ]
  },
  {
   "cell_type": "code",
   "execution_count": 10,
   "metadata": {
    "ExecuteTime": {
     "end_time": "2018-03-26T02:52:37.218993Z",
     "start_time": "2018-03-26T02:52:37.203377Z"
    },
    "collapsed": true
   },
   "outputs": [],
   "source": [
    "model['y'] = model['stage'].apply(translate_stage)"
   ]
  },
  {
   "cell_type": "code",
   "execution_count": 11,
   "metadata": {
    "ExecuteTime": {
     "end_time": "2018-03-26T02:52:38.340497Z",
     "start_time": "2018-03-26T02:52:38.327378Z"
    }
   },
   "outputs": [
    {
     "data": {
      "text/plain": [
       "(1683, 20)"
      ]
     },
     "execution_count": 11,
     "metadata": {},
     "output_type": "execute_result"
    }
   ],
   "source": [
    "model.shape"
   ]
  },
  {
   "cell_type": "markdown",
   "metadata": {},
   "source": [
    "#### Feature engineering"
   ]
  },
  {
   "cell_type": "code",
   "execution_count": 12,
   "metadata": {
    "ExecuteTime": {
     "end_time": "2018-03-26T02:52:40.188523Z",
     "start_time": "2018-03-26T02:52:40.177389Z"
    },
    "collapsed": true
   },
   "outputs": [],
   "source": [
    "#feature engineering\n",
    "y = model['y']\n",
    "X = model[['lat','lng', \n",
    "                'mobility_score',\n",
    "                'carshare',\n",
    "                'bikeshare',\n",
    "                'ridehailing',\n",
    "                'masstransit',\n",
    "                'closest_ts',\n",
    "                'within_one_tenth',\n",
    "                'within_one_half',\n",
    "                'within_one'\n",
    "                ]]"
   ]
  },
  {
   "cell_type": "markdown",
   "metadata": {},
   "source": [
    "#### Conducting a train/test split"
   ]
  },
  {
   "cell_type": "code",
   "execution_count": 13,
   "metadata": {
    "ExecuteTime": {
     "end_time": "2018-03-26T02:52:41.635356Z",
     "start_time": "2018-03-26T02:52:41.626380Z"
    },
    "collapsed": true
   },
   "outputs": [],
   "source": [
    "X_train, X_test, y_train, y_test = train_test_split(X, y, test_size=0.30, random_state=14)"
   ]
  },
  {
   "cell_type": "markdown",
   "metadata": {},
   "source": [
    "#### Calculating our baseline"
   ]
  },
  {
   "cell_type": "code",
   "execution_count": 14,
   "metadata": {},
   "outputs": [
    {
     "name": "stdout",
     "output_type": "stream",
     "text": [
      "0    1227\n",
      "1     456\n",
      "Name: y, dtype: int64\n",
      "0.7290552584670231\n"
     ]
    }
   ],
   "source": [
    "#calculate baseline\n",
    "print (y.value_counts())\n",
    "print (1 - (456 / (1227+456)))"
   ]
  },
  {
   "cell_type": "markdown",
   "metadata": {},
   "source": [
    "### Logistic Regression"
   ]
  },
  {
   "cell_type": "code",
   "execution_count": 48,
   "metadata": {},
   "outputs": [
    {
     "name": "stdout",
     "output_type": "stream",
     "text": [
      "Fitting 5 folds for each of 1 candidates, totalling 5 fits\n",
      "CPU times: user 50 ms, sys: 17 ms, total: 67 ms\n",
      "Wall time: 66.3 ms\n"
     ]
    },
    {
     "name": "stderr",
     "output_type": "stream",
     "text": [
      "[Parallel(n_jobs=1)]: Done   5 out of   5 | elapsed:    0.0s finished\n"
     ]
    }
   ],
   "source": [
    "%%time\n",
    "logreg_params = {\n",
    "   'penalty': ['l2'],\n",
    "    'C': [1.0]\n",
    "}\n",
    "\n",
    "logreg_gd = GridSearchCV(LogisticRegression(), logreg_params, verbose=1, cv=5)\n",
    "logreg_gd.fit(X_train, y_train)"
   ]
  },
  {
   "cell_type": "code",
   "execution_count": 49,
   "metadata": {},
   "outputs": [
    {
     "name": "stdout",
     "output_type": "stream",
     "text": [
      "0.76740237691\n",
      "{'C': 1.0, 'penalty': 'l2'}\n"
     ]
    },
    {
     "data": {
      "text/plain": [
       "LogisticRegression(C=1.0, class_weight=None, dual=False, fit_intercept=True,\n",
       "          intercept_scaling=1, max_iter=100, multi_class='ovr', n_jobs=1,\n",
       "          penalty='l2', random_state=None, solver='liblinear', tol=0.0001,\n",
       "          verbose=0, warm_start=False)"
      ]
     },
     "execution_count": 49,
     "metadata": {},
     "output_type": "execute_result"
    }
   ],
   "source": [
    "print(logreg_gd.best_score_)\n",
    "print(logreg_gd.best_params_)\n",
    "logreg_best = logreg_gd.best_estimator_\n",
    "logreg_best"
   ]
  },
  {
   "cell_type": "code",
   "execution_count": 15,
   "metadata": {
    "ExecuteTime": {
     "end_time": "2018-03-26T03:18:07.798048Z",
     "start_time": "2018-03-26T03:18:07.771371Z"
    }
   },
   "outputs": [
    {
     "name": "stdout",
     "output_type": "stream",
     "text": [
      "Intercept [-0.46849039]\n",
      "Coefficients [[ -4.35591648e-03   3.84445905e-03  -2.84860657e-03   7.09444251e-03\n",
      "   -3.02356010e-03   1.93941170e-02  -3.54075826e-03  -4.06409755e-03\n",
      "    1.45551237e+00  -1.74728813e-02   4.36833514e-04]]\n",
      "Predicted probability [[ 0.37403717  0.62596283]\n",
      " [ 0.74463046  0.25536954]\n",
      " [ 0.78233926  0.21766074]\n",
      " ..., \n",
      " [ 0.43173151  0.56826849]\n",
      " [ 0.90499069  0.09500931]\n",
      " [ 0.76690939  0.23309061]]\n"
     ]
    }
   ],
   "source": [
    "logreg = LogisticRegression(C=1.0, penalty='l2', random_state=1)\n",
    "logreg.fit(X_train, y_train)\n",
    "\n",
    "print('Intercept', logreg.intercept_)\n",
    "print('Coefficients', logreg.coef_)\n",
    "print('Predicted probability', logreg.predict_proba(X)) "
   ]
  },
  {
   "cell_type": "code",
   "execution_count": 16,
   "metadata": {
    "ExecuteTime": {
     "end_time": "2018-03-26T03:18:09.643095Z",
     "start_time": "2018-03-26T03:18:09.596389Z"
    }
   },
   "outputs": [
    {
     "data": {
      "text/plain": [
       "0.76742877749729543"
      ]
     },
     "execution_count": 16,
     "metadata": {},
     "output_type": "execute_result"
    }
   ],
   "source": [
    "cross_val_score(logreg, X_train, y_train, cv=5, scoring='accuracy').mean()"
   ]
  },
  {
   "cell_type": "code",
   "execution_count": 17,
   "metadata": {
    "ExecuteTime": {
     "end_time": "2018-03-26T02:53:46.164182Z",
     "start_time": "2018-03-26T02:53:46.161082Z"
    },
    "collapsed": true
   },
   "outputs": [],
   "source": [
    "from sklearn.metrics import confusion_matrix"
   ]
  },
  {
   "cell_type": "code",
   "execution_count": 18,
   "metadata": {
    "ExecuteTime": {
     "end_time": "2018-03-26T03:18:12.942527Z",
     "start_time": "2018-03-26T03:18:12.938687Z"
    },
    "collapsed": true
   },
   "outputs": [],
   "source": [
    "logreg_pred = logreg.predict(X_test)"
   ]
  },
  {
   "cell_type": "code",
   "execution_count": 34,
   "metadata": {},
   "outputs": [
    {
     "data": {
      "text/plain": [
       "array([[ 0.8895525 ,  0.1104475 ],\n",
       "       [ 0.90017836,  0.09982164],\n",
       "       [ 0.80331511,  0.19668489],\n",
       "       ..., \n",
       "       [ 0.7134833 ,  0.2865167 ],\n",
       "       [ 0.45295572,  0.54704428],\n",
       "       [ 0.69911403,  0.30088597]])"
      ]
     },
     "execution_count": 34,
     "metadata": {},
     "output_type": "execute_result"
    }
   ],
   "source": [
    "logreg_proba = logreg.predict_proba(X_test)\n",
    "logreg_proba"
   ]
  },
  {
   "cell_type": "markdown",
   "metadata": {},
   "source": [
    "#### Logistic Regression Confusion Matrix"
   ]
  },
  {
   "cell_type": "code",
   "execution_count": 36,
   "metadata": {
    "ExecuteTime": {
     "end_time": "2018-03-26T03:18:14.089779Z",
     "start_time": "2018-03-26T03:18:14.080389Z"
    }
   },
   "outputs": [
    {
     "data": {
      "text/plain": [
       "array([[360,  19],\n",
       "       [104,  22]])"
      ]
     },
     "execution_count": 36,
     "metadata": {},
     "output_type": "execute_result"
    }
   ],
   "source": [
    "logreg_CM = confusion_matrix(y_test, y_pred=logreg_pred, labels=None, sample_weight=None)\n",
    "logreg_CM"
   ]
  },
  {
   "cell_type": "markdown",
   "metadata": {},
   "source": [
    "\n",
    "- Specificity: 53.67%"
   ]
  },
  {
   "cell_type": "markdown",
   "metadata": {},
   "source": [
    "- True negatives: 360\n",
    "- False positives: 19\n",
    "- False negatives: 104\n",
    "- True positives: 22 "
   ]
  },
  {
   "cell_type": "markdown",
   "metadata": {},
   "source": [
    "##### Specificity"
   ]
  },
  {
   "cell_type": "code",
   "execution_count": 43,
   "metadata": {},
   "outputs": [
    {
     "name": "stdout",
     "output_type": "stream",
     "text": [
      "0.9498680738786279\n"
     ]
    }
   ],
   "source": [
    "print(360/(360+19))"
   ]
  },
  {
   "cell_type": "markdown",
   "metadata": {},
   "source": [
    "##### Sensitivity"
   ]
  },
  {
   "cell_type": "code",
   "execution_count": 41,
   "metadata": {},
   "outputs": [
    {
     "name": "stdout",
     "output_type": "stream",
     "text": [
      "0.1746031746031746\n"
     ]
    }
   ],
   "source": [
    "print(22/(104+22))"
   ]
  },
  {
   "cell_type": "code",
   "execution_count": 37,
   "metadata": {
    "collapsed": true
   },
   "outputs": [],
   "source": [
    "# plt.scatter(logreg_pred, ) #predictions vs. closed"
   ]
  },
  {
   "cell_type": "code",
   "execution_count": 27,
   "metadata": {
    "ExecuteTime": {
     "end_time": "2018-03-26T02:53:47.713777Z",
     "start_time": "2018-03-26T02:53:47.709651Z"
    },
    "collapsed": true
   },
   "outputs": [],
   "source": [
    "from sklearn.metrics import classification_report"
   ]
  },
  {
   "cell_type": "markdown",
   "metadata": {},
   "source": [
    "#### Logistic Regression Classification Report"
   ]
  },
  {
   "cell_type": "code",
   "execution_count": 29,
   "metadata": {},
   "outputs": [
    {
     "name": "stdout",
     "output_type": "stream",
     "text": [
      "             precision    recall  f1-score   support\n",
      "\n",
      "          0       0.78      0.95      0.85       379\n",
      "          1       0.54      0.17      0.26       126\n",
      "\n",
      "avg / total       0.72      0.76      0.71       505\n",
      "\n"
     ]
    }
   ],
   "source": [
    "print(classification_report(y_test, logreg_pred))"
   ]
  },
  {
   "cell_type": "markdown",
   "metadata": {},
   "source": [
    "- Precision: 72%\n"
   ]
  },
  {
   "cell_type": "code",
   "execution_count": 30,
   "metadata": {
    "ExecuteTime": {
     "end_time": "2018-03-26T02:53:49.293898Z",
     "start_time": "2018-03-26T02:53:49.290291Z"
    },
    "collapsed": true
   },
   "outputs": [],
   "source": [
    "from sklearn.metrics import roc_auc_score"
   ]
  },
  {
   "cell_type": "markdown",
   "metadata": {},
   "source": [
    "#### Logistic Regression ROC-AUC Score"
   ]
  },
  {
   "cell_type": "code",
   "execution_count": 32,
   "metadata": {},
   "outputs": [
    {
     "data": {
      "text/plain": [
       "0.56223562424090123"
      ]
     },
     "execution_count": 32,
     "metadata": {},
     "output_type": "execute_result"
    }
   ],
   "source": [
    "roc_auc_score(y_test, logreg_pred, average='samples', )"
   ]
  },
  {
   "cell_type": "markdown",
   "metadata": {},
   "source": [
    "### Random Forest Classifier"
   ]
  },
  {
   "cell_type": "markdown",
   "metadata": {},
   "source": [
    "#### Grid searching, hyperparameter tuning"
   ]
  },
  {
   "cell_type": "code",
   "execution_count": 77,
   "metadata": {},
   "outputs": [
    {
     "name": "stdout",
     "output_type": "stream",
     "text": [
      "Fitting 5 folds for each of 11 candidates, totalling 55 fits\n"
     ]
    },
    {
     "name": "stderr",
     "output_type": "stream",
     "text": [
      "[Parallel(n_jobs=1)]: Done  55 out of  55 | elapsed:   53.0s finished\n"
     ]
    },
    {
     "name": "stdout",
     "output_type": "stream",
     "text": [
      "CPU times: user 52.8 s, sys: 231 ms, total: 53 s\n",
      "Wall time: 53.8 s\n"
     ]
    }
   ],
   "source": [
    "%%time\n",
    "ranfor_params = {\n",
    "   'n_estimators': [500],\n",
    "    'max_depth': [5],\n",
    "    'min_samples_split': [2],\n",
    "    'min_samples_leaf': [1],\n",
    "    'max_features': [3]\n",
    "\n",
    "}\n",
    "\n",
    "ranfor_gd = GridSearchCV(RandomForestClassifier(), ranfor_params, verbose=1, cv=5)\n",
    "ranfor_gd.fit(X_train, y_train)"
   ]
  },
  {
   "cell_type": "code",
   "execution_count": 78,
   "metadata": {},
   "outputs": [
    {
     "name": "stdout",
     "output_type": "stream",
     "text": [
      "0.768251273345\n",
      "{'max_depth': 5, 'max_features': 3, 'min_samples_leaf': 1, 'min_samples_split': 2, 'n_estimators': 500}\n"
     ]
    }
   ],
   "source": [
    "print(ranfor_gd.best_score_)\n",
    "print(ranfor_gd.best_params_)"
   ]
  },
  {
   "cell_type": "markdown",
   "metadata": {},
   "source": [
    "#### Building our model with the tuned hyperparamters"
   ]
  },
  {
   "cell_type": "code",
   "execution_count": 82,
   "metadata": {
    "ExecuteTime": {
     "end_time": "2018-03-26T03:19:49.380621Z",
     "start_time": "2018-03-26T03:19:49.375630Z"
    },
    "collapsed": true
   },
   "outputs": [],
   "source": [
    "ranfor_best = RandomForestClassifier(n_estimators=500, max_depth=5, min_samples_split=2,\n",
    "                                     min_samples_leaf=1, max_features=3, random_state=2) "
   ]
  },
  {
   "cell_type": "code",
   "execution_count": 83,
   "metadata": {
    "ExecuteTime": {
     "end_time": "2018-03-26T03:19:50.404255Z",
     "start_time": "2018-03-26T03:19:49.612121Z"
    }
   },
   "outputs": [
    {
     "data": {
      "text/plain": [
       "RandomForestClassifier(bootstrap=True, class_weight=None, criterion='gini',\n",
       "            max_depth=5, max_features=3, max_leaf_nodes=None,\n",
       "            min_impurity_decrease=0.0, min_impurity_split=None,\n",
       "            min_samples_leaf=1, min_samples_split=2,\n",
       "            min_weight_fraction_leaf=0.0, n_estimators=500, n_jobs=1,\n",
       "            oob_score=False, random_state=2, verbose=0, warm_start=False)"
      ]
     },
     "execution_count": 83,
     "metadata": {},
     "output_type": "execute_result"
    }
   ],
   "source": [
    "ranfor_best.fit(X_train, y_train)"
   ]
  },
  {
   "cell_type": "code",
   "execution_count": 84,
   "metadata": {
    "ExecuteTime": {
     "end_time": "2018-03-26T03:19:53.950871Z",
     "start_time": "2018-03-26T03:19:50.406393Z"
    }
   },
   "outputs": [
    {
     "name": "stdout",
     "output_type": "stream",
     "text": [
      "[ 0.76271186  0.74576271  0.75847458  0.76595745  0.79148936]\n",
      "0.764879192211\n"
     ]
    }
   ],
   "source": [
    "ranfor_best_scores = cross_val_score(ranfor_best, X_train, y_train, cv=5)\n",
    "print(ranfor_best_scores)\n",
    "print(np.mean(ranfor_best_scores))"
   ]
  },
  {
   "cell_type": "code",
   "execution_count": 85,
   "metadata": {
    "ExecuteTime": {
     "end_time": "2018-03-26T03:19:53.985226Z",
     "start_time": "2018-03-26T03:19:53.953159Z"
    },
    "collapsed": true
   },
   "outputs": [],
   "source": [
    "features_ranfor = pd.DataFrame(list(zip(X.columns,ranfor_best.feature_importances_))\n",
    "                        ,columns=['feature','importance'])"
   ]
  },
  {
   "cell_type": "code",
   "execution_count": 86,
   "metadata": {
    "ExecuteTime": {
     "end_time": "2018-03-26T03:19:54.269222Z",
     "start_time": "2018-03-26T03:19:53.987673Z"
    }
   },
   "outputs": [
    {
     "data": {
      "text/plain": [
       "Text(0,0.5,'Feature importance')"
      ]
     },
     "execution_count": 86,
     "metadata": {},
     "output_type": "execute_result"
    },
    {
     "data": {
      "image/png": "[encoded data removed]",
      "text/plain": [
       "<matplotlib.figure.Figure at 0x1a1bf884a8>"
      ]
     },
     "metadata": {
      "image/png": {
       "height": 372,
       "width": 400
      }
     },
     "output_type": "display_data"
    }
   ],
   "source": [
    "features_ranfor.plot(kind='bar', title='Random Forest Classifier Model Feature Importance', \n",
    "                        x='feature', y='importance', fontsize='large')\n",
    "plt.xticks(rotation = 90)\n",
    "plt.xlabel('Features', fontsize='large')\n",
    "plt.ylabel('Feature importance', fontsize='large')"
   ]
  },
  {
   "cell_type": "code",
   "execution_count": 87,
   "metadata": {
    "ExecuteTime": {
     "end_time": "2018-03-26T03:19:54.282773Z",
     "start_time": "2018-03-26T03:19:54.271798Z"
    }
   },
   "outputs": [
    {
     "data": {
      "text/html": [
       "<div>\n",
       "<style>\n",
       "    .dataframe thead tr:only-child th {\n",
       "        text-align: right;\n",
       "    }\n",
       "\n",
       "    .dataframe thead th {\n",
       "        text-align: left;\n",
       "    }\n",
       "\n",
       "    .dataframe tbody tr th {\n",
       "        vertical-align: top;\n",
       "    }\n",
       "</style>\n",
       "<table border=\"1\" class=\"dataframe\">\n",
       "  <thead>\n",
       "    <tr style=\"text-align: right;\">\n",
       "      <th></th>\n",
       "      <th>feature</th>\n",
       "      <th>importance</th>\n",
       "    </tr>\n",
       "  </thead>\n",
       "  <tbody>\n",
       "    <tr>\n",
       "      <th>0</th>\n",
       "      <td>lat</td>\n",
       "      <td>0.067345</td>\n",
       "    </tr>\n",
       "    <tr>\n",
       "      <th>1</th>\n",
       "      <td>lng</td>\n",
       "      <td>0.060754</td>\n",
       "    </tr>\n",
       "    <tr>\n",
       "      <th>2</th>\n",
       "      <td>mobility_score</td>\n",
       "      <td>0.058451</td>\n",
       "    </tr>\n",
       "    <tr>\n",
       "      <th>3</th>\n",
       "      <td>carshare</td>\n",
       "      <td>0.051669</td>\n",
       "    </tr>\n",
       "    <tr>\n",
       "      <th>4</th>\n",
       "      <td>bikeshare</td>\n",
       "      <td>0.059965</td>\n",
       "    </tr>\n",
       "    <tr>\n",
       "      <th>5</th>\n",
       "      <td>ridehailing</td>\n",
       "      <td>0.018914</td>\n",
       "    </tr>\n",
       "    <tr>\n",
       "      <th>6</th>\n",
       "      <td>masstransit</td>\n",
       "      <td>0.125206</td>\n",
       "    </tr>\n",
       "    <tr>\n",
       "      <th>7</th>\n",
       "      <td>closest_ts</td>\n",
       "      <td>0.309527</td>\n",
       "    </tr>\n",
       "    <tr>\n",
       "      <th>8</th>\n",
       "      <td>within_one_tenth</td>\n",
       "      <td>0.159709</td>\n",
       "    </tr>\n",
       "    <tr>\n",
       "      <th>9</th>\n",
       "      <td>within_one_half</td>\n",
       "      <td>0.047618</td>\n",
       "    </tr>\n",
       "    <tr>\n",
       "      <th>10</th>\n",
       "      <td>within_one</td>\n",
       "      <td>0.040841</td>\n",
       "    </tr>\n",
       "  </tbody>\n",
       "</table>\n",
       "</div>"
      ],
      "text/plain": [
       "             feature  importance\n",
       "0                lat    0.067345\n",
       "1                lng    0.060754\n",
       "2     mobility_score    0.058451\n",
       "3           carshare    0.051669\n",
       "4          bikeshare    0.059965\n",
       "5        ridehailing    0.018914\n",
       "6        masstransit    0.125206\n",
       "7         closest_ts    0.309527\n",
       "8   within_one_tenth    0.159709\n",
       "9    within_one_half    0.047618\n",
       "10        within_one    0.040841"
      ]
     },
     "execution_count": 87,
     "metadata": {},
     "output_type": "execute_result"
    }
   ],
   "source": [
    "features_ranfor"
   ]
  },
  {
   "cell_type": "code",
   "execution_count": 88,
   "metadata": {
    "ExecuteTime": {
     "end_time": "2018-03-26T03:19:54.538595Z",
     "start_time": "2018-03-26T03:19:54.290064Z"
    },
    "collapsed": true
   },
   "outputs": [],
   "source": [
    "ranfor_pred = ranfor_best.predict(X_test)"
   ]
  },
  {
   "cell_type": "markdown",
   "metadata": {},
   "source": [
    "#### Random Forest Classifier Confusion Matrix"
   ]
  },
  {
   "cell_type": "code",
   "execution_count": 89,
   "metadata": {
    "ExecuteTime": {
     "end_time": "2018-03-26T03:19:54.558754Z",
     "start_time": "2018-03-26T03:19:54.543531Z"
    }
   },
   "outputs": [
    {
     "data": {
      "text/plain": [
       "array([[361,  18],\n",
       "       [102,  24]])"
      ]
     },
     "execution_count": 89,
     "metadata": {},
     "output_type": "execute_result"
    }
   ],
   "source": [
    "ranfor_CM = confusion_matrix(y_test, ranfor_pred)\n",
    "ranfor_CM"
   ]
  },
  {
   "cell_type": "markdown",
   "metadata": {},
   "source": [
    "- True positives: 24\n",
    "- False negatives: 102\n",
    "- False positives: 18\n",
    "- True negatives: 361"
   ]
  },
  {
   "cell_type": "markdown",
   "metadata": {},
   "source": [
    "##### Specificity"
   ]
  },
  {
   "cell_type": "code",
   "execution_count": 50,
   "metadata": {},
   "outputs": [
    {
     "name": "stdout",
     "output_type": "stream",
     "text": [
      "0.9525065963060686\n"
     ]
    }
   ],
   "source": [
    "print(361/(361+18))"
   ]
  },
  {
   "cell_type": "markdown",
   "metadata": {},
   "source": [
    "##### Sensitivity"
   ]
  },
  {
   "cell_type": "code",
   "execution_count": 51,
   "metadata": {},
   "outputs": [
    {
     "name": "stdout",
     "output_type": "stream",
     "text": [
      "0.19047619047619047\n"
     ]
    }
   ],
   "source": [
    "print(24/(24+102))"
   ]
  },
  {
   "cell_type": "markdown",
   "metadata": {
    "ExecuteTime": {
     "end_time": "2018-03-26T03:20:27.907616Z",
     "start_time": "2018-03-26T03:20:27.904358Z"
    }
   },
   "source": [
    "#### Random Forest Classifier ROC-AUC Score"
   ]
  },
  {
   "cell_type": "code",
   "execution_count": 90,
   "metadata": {
    "ExecuteTime": {
     "end_time": "2018-03-26T03:19:54.567876Z",
     "start_time": "2018-03-26T03:19:54.561475Z"
    }
   },
   "outputs": [
    {
     "data": {
      "text/plain": [
       "0.57149139339112953"
      ]
     },
     "execution_count": 90,
     "metadata": {},
     "output_type": "execute_result"
    }
   ],
   "source": [
    "roc_auc_score(y_test, y_score=ranfor_pred)"
   ]
  },
  {
   "cell_type": "markdown",
   "metadata": {},
   "source": [
    "#### Random Forest Classifier Classification Report"
   ]
  },
  {
   "cell_type": "code",
   "execution_count": 91,
   "metadata": {
    "ExecuteTime": {
     "end_time": "2018-03-26T03:19:54.575516Z",
     "start_time": "2018-03-26T03:19:54.569660Z"
    }
   },
   "outputs": [
    {
     "name": "stdout",
     "output_type": "stream",
     "text": [
      "             precision    recall  f1-score   support\n",
      "\n",
      "          0       0.78      0.95      0.86       379\n",
      "          1       0.57      0.19      0.29       126\n",
      "\n",
      "avg / total       0.73      0.76      0.71       505\n",
      "\n"
     ]
    }
   ],
   "source": [
    "print(classification_report(y_test, ranfor_pred))"
   ]
  },
  {
   "cell_type": "markdown",
   "metadata": {},
   "source": [
    "- Precision: 73%\n",
    "- Recall/sensitivity: 76%"
   ]
  },
  {
   "cell_type": "markdown",
   "metadata": {},
   "source": [
    "### Gradient Boost Classifier"
   ]
  },
  {
   "cell_type": "markdown",
   "metadata": {},
   "source": [
    "#### Grid searching, hyperparamter tuning"
   ]
  },
  {
   "cell_type": "code",
   "execution_count": 97,
   "metadata": {},
   "outputs": [
    {
     "name": "stdout",
     "output_type": "stream",
     "text": [
      "Fitting 5 folds for each of 11 candidates, totalling 55 fits\n",
      "CPU times: user 5.77 s, sys: 31.3 ms, total: 5.8 s\n",
      "Wall time: 5.84 s\n"
     ]
    },
    {
     "name": "stderr",
     "output_type": "stream",
     "text": [
      "[Parallel(n_jobs=1)]: Done  55 out of  55 | elapsed:    5.7s finished\n"
     ]
    }
   ],
   "source": [
    "%%time\n",
    "gradboost_params = {\n",
    "  'loss': ['exponential'],\n",
    "   'learning_rate': [0.01],\n",
    "    'n_estimators': [300],\n",
    "    'max_depth': [1],\n",
    "    'min_samples_leaf': [1],\n",
    "    'max_features': [8]\n",
    "}\n",
    "\n",
    "gradboost_gd = GridSearchCV(GradientBoostingClassifier(), gradboost_params, verbose=1, cv=5)\n",
    "gradboost_gd.fit(X_train, y_train)"
   ]
  },
  {
   "cell_type": "code",
   "execution_count": 98,
   "metadata": {},
   "outputs": [
    {
     "name": "stdout",
     "output_type": "stream",
     "text": [
      "0.769100169779\n",
      "{'learning_rate': 0.01, 'loss': 'exponential', 'max_depth': 1, 'max_features': 8, 'min_samples_leaf': 1, 'n_estimators': 300}\n"
     ]
    }
   ],
   "source": [
    "print(gradboost_gd.best_score_)\n",
    "print(gradboost_gd.best_params_)"
   ]
  },
  {
   "cell_type": "code",
   "execution_count": 28,
   "metadata": {
    "ExecuteTime": {
     "end_time": "2018-03-26T02:56:45.820275Z",
     "start_time": "2018-03-26T02:56:45.657322Z"
    }
   },
   "outputs": [
    {
     "data": {
      "text/plain": [
       "GradientBoostingClassifier(criterion='friedman_mse', init=None,\n",
       "              learning_rate=0.01, loss='exponential', max_depth=1,\n",
       "              max_features=8, max_leaf_nodes=None,\n",
       "              min_impurity_decrease=0.0, min_impurity_split=None,\n",
       "              min_samples_leaf=1, min_samples_split=2,\n",
       "              min_weight_fraction_leaf=0.0, n_estimators=300,\n",
       "              presort='auto', random_state=3, subsample=1.0, verbose=0,\n",
       "              warm_start=False)"
      ]
     },
     "execution_count": 28,
     "metadata": {},
     "output_type": "execute_result"
    }
   ],
   "source": [
    "gradboost_best = GradientBoostingClassifier(loss='exponential', learning_rate=0.01, \n",
    "                                            n_estimators=300, max_depth=1, min_samples_leaf=1, max_features=8,\n",
    "                                           random_state=3) \n",
    "gradboost_best.fit(X_train,y_train)"
   ]
  },
  {
   "cell_type": "code",
   "execution_count": 29,
   "metadata": {
    "ExecuteTime": {
     "end_time": "2018-03-26T02:56:46.511925Z",
     "start_time": "2018-03-26T02:56:45.895058Z"
    }
   },
   "outputs": [
    {
     "name": "stdout",
     "output_type": "stream",
     "text": [
      "[ 0.77118644  0.74576271  0.75423729  0.7787234   0.79574468]\n",
      "0.769130905157\n"
     ]
    }
   ],
   "source": [
    "gradboost_scores = cross_val_score(gradboost_best, X_train, y_train, cv=5)\n",
    "print(gradboost_scores)\n",
    "print(np.mean(gradboost_scores))"
   ]
  },
  {
   "cell_type": "code",
   "execution_count": 30,
   "metadata": {
    "ExecuteTime": {
     "end_time": "2018-03-26T02:56:46.527682Z",
     "start_time": "2018-03-26T02:56:46.514144Z"
    },
    "collapsed": true
   },
   "outputs": [],
   "source": [
    "features_gradboost = pd.DataFrame(list(zip(X.columns,gradboost_best.feature_importances_))\n",
    "                        ,columns=['feature','importance']) "
   ]
  },
  {
   "cell_type": "code",
   "execution_count": 31,
   "metadata": {
    "ExecuteTime": {
     "end_time": "2018-03-26T02:56:46.822921Z",
     "start_time": "2018-03-26T02:56:46.529864Z"
    }
   },
   "outputs": [
    {
     "data": {
      "text/plain": [
       "Text(0,0.5,'Feature importance')"
      ]
     },
     "execution_count": 31,
     "metadata": {},
     "output_type": "execute_result"
    },
    {
     "data": {
      "image/png": "[encoded data removed]",
      "text/plain": [
       "<matplotlib.figure.Figure at 0x1a1b2d9828>"
      ]
     },
     "metadata": {
      "image/png": {
       "height": 372,
       "width": 393
      }
     },
     "output_type": "display_data"
    }
   ],
   "source": [
    "features_gradboost.plot(kind='bar', title='Gradient Boost Classifier Feature Importance', \n",
    "                        x='feature', y='importance', fontsize='large', sort_columns=True, legend=False)\n",
    "plt.xticks(rotation = 90)\n",
    "plt.xlabel('Features', fontsize='large')\n",
    "plt.ylabel('Feature importance', fontsize='large')"
   ]
  },
  {
   "cell_type": "code",
   "execution_count": 32,
   "metadata": {
    "ExecuteTime": {
     "end_time": "2018-03-26T02:56:46.835286Z",
     "start_time": "2018-03-26T02:56:46.825232Z"
    }
   },
   "outputs": [
    {
     "data": {
      "text/html": [
       "<div>\n",
       "<style>\n",
       "    .dataframe thead tr:only-child th {\n",
       "        text-align: right;\n",
       "    }\n",
       "\n",
       "    .dataframe thead th {\n",
       "        text-align: left;\n",
       "    }\n",
       "\n",
       "    .dataframe tbody tr th {\n",
       "        vertical-align: top;\n",
       "    }\n",
       "</style>\n",
       "<table border=\"1\" class=\"dataframe\">\n",
       "  <thead>\n",
       "    <tr style=\"text-align: right;\">\n",
       "      <th></th>\n",
       "      <th>feature</th>\n",
       "      <th>importance</th>\n",
       "    </tr>\n",
       "  </thead>\n",
       "  <tbody>\n",
       "    <tr>\n",
       "      <th>0</th>\n",
       "      <td>lat</td>\n",
       "      <td>0.000000</td>\n",
       "    </tr>\n",
       "    <tr>\n",
       "      <th>1</th>\n",
       "      <td>lng</td>\n",
       "      <td>0.000000</td>\n",
       "    </tr>\n",
       "    <tr>\n",
       "      <th>2</th>\n",
       "      <td>mobility_score</td>\n",
       "      <td>0.000000</td>\n",
       "    </tr>\n",
       "    <tr>\n",
       "      <th>3</th>\n",
       "      <td>carshare</td>\n",
       "      <td>0.006667</td>\n",
       "    </tr>\n",
       "    <tr>\n",
       "      <th>4</th>\n",
       "      <td>bikeshare</td>\n",
       "      <td>0.000000</td>\n",
       "    </tr>\n",
       "    <tr>\n",
       "      <th>5</th>\n",
       "      <td>ridehailing</td>\n",
       "      <td>0.000000</td>\n",
       "    </tr>\n",
       "    <tr>\n",
       "      <th>6</th>\n",
       "      <td>masstransit</td>\n",
       "      <td>0.283333</td>\n",
       "    </tr>\n",
       "    <tr>\n",
       "      <th>7</th>\n",
       "      <td>closest_ts</td>\n",
       "      <td>0.596667</td>\n",
       "    </tr>\n",
       "    <tr>\n",
       "      <th>8</th>\n",
       "      <td>within_one_tenth</td>\n",
       "      <td>0.106667</td>\n",
       "    </tr>\n",
       "    <tr>\n",
       "      <th>9</th>\n",
       "      <td>within_one_half</td>\n",
       "      <td>0.006667</td>\n",
       "    </tr>\n",
       "    <tr>\n",
       "      <th>10</th>\n",
       "      <td>within_one</td>\n",
       "      <td>0.000000</td>\n",
       "    </tr>\n",
       "  </tbody>\n",
       "</table>\n",
       "</div>"
      ],
      "text/plain": [
       "             feature  importance\n",
       "0                lat    0.000000\n",
       "1                lng    0.000000\n",
       "2     mobility_score    0.000000\n",
       "3           carshare    0.006667\n",
       "4          bikeshare    0.000000\n",
       "5        ridehailing    0.000000\n",
       "6        masstransit    0.283333\n",
       "7         closest_ts    0.596667\n",
       "8   within_one_tenth    0.106667\n",
       "9    within_one_half    0.006667\n",
       "10        within_one    0.000000"
      ]
     },
     "execution_count": 32,
     "metadata": {},
     "output_type": "execute_result"
    }
   ],
   "source": [
    "features_gradboost"
   ]
  },
  {
   "cell_type": "code",
   "execution_count": 33,
   "metadata": {
    "ExecuteTime": {
     "end_time": "2018-03-26T02:56:46.842593Z",
     "start_time": "2018-03-26T02:56:46.837606Z"
    },
    "collapsed": true
   },
   "outputs": [],
   "source": [
    "gradboost_pred = gradboost_best.predict(X_test)"
   ]
  },
  {
   "cell_type": "markdown",
   "metadata": {},
   "source": [
    "#### Gradient Boost Classifier Confusion Matrix"
   ]
  },
  {
   "cell_type": "code",
   "execution_count": 34,
   "metadata": {
    "ExecuteTime": {
     "end_time": "2018-03-26T02:56:47.021438Z",
     "start_time": "2018-03-26T02:56:47.005866Z"
    }
   },
   "outputs": [
    {
     "data": {
      "text/plain": [
       "array([[358,  21],\n",
       "       [102,  24]])"
      ]
     },
     "execution_count": 34,
     "metadata": {},
     "output_type": "execute_result"
    }
   ],
   "source": [
    "gradboost_CM = confusion_matrix(y_test, gradboost_pred)\n",
    "gradboost_CM"
   ]
  },
  {
   "cell_type": "markdown",
   "metadata": {},
   "source": [
    "- True positives: 24\n",
    "- False negatives: 102\n",
    "- False positives: 21\n",
    "- True negatives: 358"
   ]
  },
  {
   "cell_type": "markdown",
   "metadata": {},
   "source": [
    "##### Specificity"
   ]
  },
  {
   "cell_type": "code",
   "execution_count": 53,
   "metadata": {},
   "outputs": [
    {
     "name": "stdout",
     "output_type": "stream",
     "text": [
      "0.9445910290237467\n"
     ]
    }
   ],
   "source": [
    "print(358/(358+21))"
   ]
  },
  {
   "cell_type": "markdown",
   "metadata": {},
   "source": [
    "##### Sensitivity"
   ]
  },
  {
   "cell_type": "code",
   "execution_count": 54,
   "metadata": {},
   "outputs": [
    {
     "name": "stdout",
     "output_type": "stream",
     "text": [
      "0.19047619047619047\n"
     ]
    }
   ],
   "source": [
    "print(24/(24+102))"
   ]
  },
  {
   "cell_type": "markdown",
   "metadata": {},
   "source": [
    "#### Gradient Boost Classifier ROC-AUC Score"
   ]
  },
  {
   "cell_type": "code",
   "execution_count": 35,
   "metadata": {
    "ExecuteTime": {
     "end_time": "2018-03-26T02:56:47.220924Z",
     "start_time": "2018-03-26T02:56:47.210557Z"
    }
   },
   "outputs": [
    {
     "data": {
      "text/plain": [
       "0.56753360974996858"
      ]
     },
     "execution_count": 35,
     "metadata": {},
     "output_type": "execute_result"
    }
   ],
   "source": [
    "roc_auc_score(y_test, gradboost_pred)"
   ]
  },
  {
   "cell_type": "markdown",
   "metadata": {},
   "source": [
    "#### Gradient Boost Classifier Classification Report"
   ]
  },
  {
   "cell_type": "code",
   "execution_count": 36,
   "metadata": {
    "ExecuteTime": {
     "end_time": "2018-03-26T02:56:47.408489Z",
     "start_time": "2018-03-26T02:56:47.402374Z"
    }
   },
   "outputs": [
    {
     "name": "stdout",
     "output_type": "stream",
     "text": [
      "             precision    recall  f1-score   support\n",
      "\n",
      "          0       0.78      0.94      0.85       379\n",
      "          1       0.53      0.19      0.28       126\n",
      "\n",
      "avg / total       0.72      0.76      0.71       505\n",
      "\n"
     ]
    }
   ],
   "source": [
    "print(classification_report(y_test, gradboost_pred))"
   ]
  },
  {
   "cell_type": "markdown",
   "metadata": {},
   "source": [
    "- Precision: 72%\n",
    "- Recall: 76%"
   ]
  },
  {
   "cell_type": "markdown",
   "metadata": {},
   "source": [
    "### AdaBoost Classifier"
   ]
  },
  {
   "cell_type": "markdown",
   "metadata": {},
   "source": [
    "#### Grid Searching, Hyperparameter tuning"
   ]
  },
  {
   "cell_type": "code",
   "execution_count": 125,
   "metadata": {},
   "outputs": [
    {
     "name": "stdout",
     "output_type": "stream",
     "text": [
      "Fitting 5 folds for each of 7 candidates, totalling 35 fits\n",
      "CPU times: user 1.56 s, sys: 29.9 ms, total: 1.59 s\n",
      "Wall time: 1.61 s\n"
     ]
    },
    {
     "name": "stderr",
     "output_type": "stream",
     "text": [
      "[Parallel(n_jobs=1)]: Done  35 out of  35 | elapsed:    1.6s finished\n"
     ]
    }
   ],
   "source": [
    "%%time\n",
    "adaboost_params = {\n",
    "   'n_estimators': [25],\n",
    "    'learning_rate': [0.1],\n",
    "    \n",
    "}\n",
    "\n",
    "adaboost_gd = GridSearchCV(AdaBoostClassifier(), adaboost_params, verbose=1, cv=5)\n",
    "adaboost_gd.fit(X_train,y_train)"
   ]
  },
  {
   "cell_type": "code",
   "execution_count": 127,
   "metadata": {},
   "outputs": [
    {
     "name": "stdout",
     "output_type": "stream",
     "text": [
      "0.769100169779\n",
      "{'learning_rate': 0.1, 'n_estimators': 25}\n"
     ]
    }
   ],
   "source": [
    "print(adaboost_gd.best_score_)\n",
    "print(adaboost_gd.best_params_)"
   ]
  },
  {
   "cell_type": "markdown",
   "metadata": {},
   "source": [
    "#### Building the model with the tuned hyperparamters"
   ]
  },
  {
   "cell_type": "code",
   "execution_count": 37,
   "metadata": {
    "ExecuteTime": {
     "end_time": "2018-03-26T02:57:06.217490Z",
     "start_time": "2018-03-26T02:57:06.160917Z"
    }
   },
   "outputs": [
    {
     "data": {
      "text/plain": [
       "AdaBoostClassifier(algorithm='SAMME.R', base_estimator=None,\n",
       "          learning_rate=0.1, n_estimators=25, random_state=4)"
      ]
     },
     "execution_count": 37,
     "metadata": {},
     "output_type": "execute_result"
    }
   ],
   "source": [
    "adaboost_best = AdaBoostClassifier(learning_rate=0.1, n_estimators=25, random_state=4)\n",
    "adaboost_best.fit(X_train, y_train)"
   ]
  },
  {
   "cell_type": "code",
   "execution_count": 38,
   "metadata": {
    "ExecuteTime": {
     "end_time": "2018-03-26T02:57:06.649675Z",
     "start_time": "2018-03-26T02:57:06.394779Z"
    }
   },
   "outputs": [
    {
     "name": "stdout",
     "output_type": "stream",
     "text": [
      "[ 0.77966102  0.74576271  0.75        0.77446809  0.79574468]\n",
      "0.769127298954\n"
     ]
    }
   ],
   "source": [
    "adaboost_scores = cross_val_score(adaboost_best, X_train, y_train, cv=5)\n",
    "print(adaboost_scores)\n",
    "print(np.mean(adaboost_scores)) "
   ]
  },
  {
   "cell_type": "markdown",
   "metadata": {},
   "source": [
    "#### AdaBoost Classifier Feature Importance"
   ]
  },
  {
   "cell_type": "code",
   "execution_count": 39,
   "metadata": {
    "ExecuteTime": {
     "end_time": "2018-03-26T02:57:06.660557Z",
     "start_time": "2018-03-26T02:57:06.653482Z"
    },
    "collapsed": true
   },
   "outputs": [],
   "source": [
    "features_adaboost = pd.DataFrame(list(zip(X.columns,adaboost_best.feature_importances_))\n",
    "                        ,columns=['feature','importance']) "
   ]
  },
  {
   "cell_type": "code",
   "execution_count": 40,
   "metadata": {
    "ExecuteTime": {
     "end_time": "2018-03-26T02:57:07.007254Z",
     "start_time": "2018-03-26T02:57:06.760881Z"
    }
   },
   "outputs": [
    {
     "data": {
      "text/plain": [
       "Text(0,0.5,'Feature importance')"
      ]
     },
     "execution_count": 40,
     "metadata": {},
     "output_type": "execute_result"
    },
    {
     "data": {
      "image/png": "[encoded data removed]",
      "text/plain": [
       "<matplotlib.figure.Figure at 0x1a1b2d9a90>"
      ]
     },
     "metadata": {
      "image/png": {
       "height": 372,
       "width": 393
      }
     },
     "output_type": "display_data"
    }
   ],
   "source": [
    "features_adaboost.plot(kind='bar', title='AdaBoost Classifier Feature Importance', \n",
    "                        x='feature', y='importance', fontsize='large')\n",
    "plt.xticks(rotation = 90)\n",
    "plt.xlabel('Features', fontsize='large')\n",
    "plt.ylabel('Feature importance', fontsize='large')"
   ]
  },
  {
   "cell_type": "code",
   "execution_count": 41,
   "metadata": {
    "ExecuteTime": {
     "end_time": "2018-03-26T02:57:07.019780Z",
     "start_time": "2018-03-26T02:57:07.009361Z"
    }
   },
   "outputs": [
    {
     "data": {
      "text/html": [
       "<div>\n",
       "<style>\n",
       "    .dataframe thead tr:only-child th {\n",
       "        text-align: right;\n",
       "    }\n",
       "\n",
       "    .dataframe thead th {\n",
       "        text-align: left;\n",
       "    }\n",
       "\n",
       "    .dataframe tbody tr th {\n",
       "        vertical-align: top;\n",
       "    }\n",
       "</style>\n",
       "<table border=\"1\" class=\"dataframe\">\n",
       "  <thead>\n",
       "    <tr style=\"text-align: right;\">\n",
       "      <th></th>\n",
       "      <th>feature</th>\n",
       "      <th>importance</th>\n",
       "    </tr>\n",
       "  </thead>\n",
       "  <tbody>\n",
       "    <tr>\n",
       "      <th>0</th>\n",
       "      <td>lat</td>\n",
       "      <td>0.00</td>\n",
       "    </tr>\n",
       "    <tr>\n",
       "      <th>1</th>\n",
       "      <td>lng</td>\n",
       "      <td>0.00</td>\n",
       "    </tr>\n",
       "    <tr>\n",
       "      <th>2</th>\n",
       "      <td>mobility_score</td>\n",
       "      <td>0.00</td>\n",
       "    </tr>\n",
       "    <tr>\n",
       "      <th>3</th>\n",
       "      <td>carshare</td>\n",
       "      <td>0.00</td>\n",
       "    </tr>\n",
       "    <tr>\n",
       "      <th>4</th>\n",
       "      <td>bikeshare</td>\n",
       "      <td>0.00</td>\n",
       "    </tr>\n",
       "    <tr>\n",
       "      <th>5</th>\n",
       "      <td>ridehailing</td>\n",
       "      <td>0.00</td>\n",
       "    </tr>\n",
       "    <tr>\n",
       "      <th>6</th>\n",
       "      <td>masstransit</td>\n",
       "      <td>0.28</td>\n",
       "    </tr>\n",
       "    <tr>\n",
       "      <th>7</th>\n",
       "      <td>closest_ts</td>\n",
       "      <td>0.72</td>\n",
       "    </tr>\n",
       "    <tr>\n",
       "      <th>8</th>\n",
       "      <td>within_one_tenth</td>\n",
       "      <td>0.00</td>\n",
       "    </tr>\n",
       "    <tr>\n",
       "      <th>9</th>\n",
       "      <td>within_one_half</td>\n",
       "      <td>0.00</td>\n",
       "    </tr>\n",
       "    <tr>\n",
       "      <th>10</th>\n",
       "      <td>within_one</td>\n",
       "      <td>0.00</td>\n",
       "    </tr>\n",
       "  </tbody>\n",
       "</table>\n",
       "</div>"
      ],
      "text/plain": [
       "             feature  importance\n",
       "0                lat        0.00\n",
       "1                lng        0.00\n",
       "2     mobility_score        0.00\n",
       "3           carshare        0.00\n",
       "4          bikeshare        0.00\n",
       "5        ridehailing        0.00\n",
       "6        masstransit        0.28\n",
       "7         closest_ts        0.72\n",
       "8   within_one_tenth        0.00\n",
       "9    within_one_half        0.00\n",
       "10        within_one        0.00"
      ]
     },
     "execution_count": 41,
     "metadata": {},
     "output_type": "execute_result"
    }
   ],
   "source": [
    "features_adaboost "
   ]
  },
  {
   "cell_type": "code",
   "execution_count": 42,
   "metadata": {
    "ExecuteTime": {
     "end_time": "2018-03-26T02:57:07.189535Z",
     "start_time": "2018-03-26T02:57:07.181052Z"
    },
    "collapsed": true
   },
   "outputs": [],
   "source": [
    "adaboost_pred = adaboost_best.predict(X_test)"
   ]
  },
  {
   "cell_type": "markdown",
   "metadata": {},
   "source": [
    "#### AdaBoost Classifier Confusion Matrix"
   ]
  },
  {
   "cell_type": "code",
   "execution_count": 43,
   "metadata": {
    "ExecuteTime": {
     "end_time": "2018-03-26T02:57:07.683252Z",
     "start_time": "2018-03-26T02:57:07.675238Z"
    }
   },
   "outputs": [
    {
     "data": {
      "text/plain": [
       "array([[358,  21],\n",
       "       [101,  25]])"
      ]
     },
     "execution_count": 43,
     "metadata": {},
     "output_type": "execute_result"
    }
   ],
   "source": [
    "adaboost_CM = confusion_matrix(y_test, adaboost_pred)\n",
    "adaboost_CM"
   ]
  },
  {
   "cell_type": "markdown",
   "metadata": {},
   "source": [
    "- True positives: 25\n",
    "- False negatives: 101\n",
    "- False positives: 21\n",
    "- True negatives: 358"
   ]
  },
  {
   "cell_type": "markdown",
   "metadata": {},
   "source": [
    "##### Specificity"
   ]
  },
  {
   "cell_type": "code",
   "execution_count": 56,
   "metadata": {},
   "outputs": [
    {
     "name": "stdout",
     "output_type": "stream",
     "text": [
      "0.9445910290237467\n"
     ]
    }
   ],
   "source": [
    "print(358/(358+21))"
   ]
  },
  {
   "cell_type": "markdown",
   "metadata": {},
   "source": [
    "##### Sensitivity"
   ]
  },
  {
   "cell_type": "code",
   "execution_count": 57,
   "metadata": {},
   "outputs": [
    {
     "name": "stdout",
     "output_type": "stream",
     "text": [
      "0.1984126984126984\n"
     ]
    }
   ],
   "source": [
    "print(25/(25+101))"
   ]
  },
  {
   "cell_type": "markdown",
   "metadata": {},
   "source": [
    "#### AdaBoost Classifier ROC-AUC score"
   ]
  },
  {
   "cell_type": "code",
   "execution_count": 44,
   "metadata": {
    "ExecuteTime": {
     "end_time": "2018-03-26T02:57:07.882556Z",
     "start_time": "2018-03-26T02:57:07.873366Z"
    }
   },
   "outputs": [
    {
     "data": {
      "text/plain": [
       "0.57150186371822254"
      ]
     },
     "execution_count": 44,
     "metadata": {},
     "output_type": "execute_result"
    }
   ],
   "source": [
    "roc_auc_score(y_test, adaboost_pred)"
   ]
  },
  {
   "cell_type": "markdown",
   "metadata": {},
   "source": [
    "#### AdaBoost Classifier Classification Report"
   ]
  },
  {
   "cell_type": "code",
   "execution_count": 45,
   "metadata": {
    "ExecuteTime": {
     "end_time": "2018-03-26T02:57:08.054121Z",
     "start_time": "2018-03-26T02:57:08.046048Z"
    }
   },
   "outputs": [
    {
     "name": "stdout",
     "output_type": "stream",
     "text": [
      "             precision    recall  f1-score   support\n",
      "\n",
      "          0       0.78      0.94      0.85       379\n",
      "          1       0.54      0.20      0.29       126\n",
      "\n",
      "avg / total       0.72      0.76      0.71       505\n",
      "\n"
     ]
    }
   ],
   "source": [
    "print(classification_report(y_test, adaboost_pred))"
   ]
  },
  {
   "cell_type": "markdown",
   "metadata": {},
   "source": [
    "- Precision: 72%"
   ]
  },
  {
   "cell_type": "markdown",
   "metadata": {},
   "source": [
    "### XGBoost"
   ]
  },
  {
   "cell_type": "code",
   "execution_count": 11,
   "metadata": {
    "ExecuteTime": {
     "end_time": "2018-03-26T02:52:47.756197Z",
     "start_time": "2018-03-26T02:52:47.729658Z"
    }
   },
   "outputs": [
    {
     "ename": "NameError",
     "evalue": "name 'GridSearchCV' is not defined",
     "output_type": "error",
     "traceback": [
      "\u001b[0;31m---------------------------------------------------------------------------\u001b[0m",
      "\u001b[0;31mNameError\u001b[0m                                 Traceback (most recent call last)",
      "\u001b[0;32m<timed exec>\u001b[0m in \u001b[0;36m<module>\u001b[0;34m()\u001b[0m\n",
      "\u001b[0;31mNameError\u001b[0m: name 'GridSearchCV' is not defined"
     ]
    }
   ],
   "source": [
    "%%time\n",
    "xgb_params = {\n",
    "   'max_depth': [3],\n",
    "   'learning_rate': [0.01],\n",
    "    'n_estimators': [125],\n",
    "    'gamma': [0.05],\n",
    "    'min_child_weight': [1],\n",
    "    'subsample': [1.0],\n",
    "    'colsample_bytree': [0.6],\n",
    "    'reg_lambda': [0.01],\n",
    "    'reg_alpha': [0]\n",
    "}\n",
    "\n",
    "xgboost_gd = GridSearchCV(XGBClassifier(), xgb_params, verbose=1, cv=5)\n",
    "xgboost_gd.fit(X_train, y_train)"
   ]
  },
  {
   "cell_type": "code",
   "execution_count": 162,
   "metadata": {},
   "outputs": [
    {
     "name": "stdout",
     "output_type": "stream",
     "text": [
      "0.76740237691\n",
      "{'colsample_bytree': 0.6, 'gamma': 0.05, 'learning_rate': 0.01, 'max_depth': 3, 'min_child_weight': 1, 'n_estimators': 125, 'reg_alpha': 0, 'reg_lambda': 0.01, 'subsample': 1.0}\n"
     ]
    }
   ],
   "source": [
    "print(xgboost_gd.best_score_)\n",
    "print(xgboost_gd.best_params_)"
   ]
  },
  {
   "cell_type": "code",
   "execution_count": 46,
   "metadata": {
    "ExecuteTime": {
     "end_time": "2018-03-26T02:57:25.216564Z",
     "start_time": "2018-03-26T02:57:25.142908Z"
    }
   },
   "outputs": [
    {
     "data": {
      "text/plain": [
       "XGBClassifier(base_score=0.5, booster='gbtree', colsample_bylevel=1,\n",
       "       colsample_bytree=0.6, gamma=0.05, learning_rate=0.01,\n",
       "       max_delta_step=0, max_depth=3, min_child_weight=1.0, missing=None,\n",
       "       n_estimators=125, n_jobs=1, nthread=None,\n",
       "       objective='binary:logistic', random_state=5, reg_alpha=0,\n",
       "       reg_lambda=0.01, scale_pos_weight=1, seed=None, silent=True,\n",
       "       subsample=1.0)"
      ]
     },
     "execution_count": 46,
     "metadata": {},
     "output_type": "execute_result"
    }
   ],
   "source": [
    "xgboost_best = XGBClassifier(max_depth=3, learning_rate=0.01, n_estimators=125, gamma=0.05, min_child_weight=1.0,\n",
    "                            subsample=1.0, colsample_bytree=0.6, reg_lambda=0.01, reg_alpha=0, random_state=5)\n",
    "xgboost_best.fit(X_train, y_train)"
   ]
  },
  {
   "cell_type": "code",
   "execution_count": 47,
   "metadata": {
    "ExecuteTime": {
     "end_time": "2018-03-26T02:57:25.697625Z",
     "start_time": "2018-03-26T02:57:25.400418Z"
    }
   },
   "outputs": [
    {
     "name": "stdout",
     "output_type": "stream",
     "text": [
      "[ 0.76694915  0.74576271  0.75847458  0.77021277  0.79148936]\n",
      "0.766577713668\n"
     ]
    }
   ],
   "source": [
    "xgb_scores = cross_val_score(xgboost_best, X_train, y_train, cv=5)\n",
    "print(xgb_scores)\n",
    "print(np.mean(xgb_scores)) "
   ]
  },
  {
   "cell_type": "code",
   "execution_count": 48,
   "metadata": {
    "ExecuteTime": {
     "end_time": "2018-03-26T02:57:25.707850Z",
     "start_time": "2018-03-26T02:57:25.699417Z"
    },
    "collapsed": true
   },
   "outputs": [],
   "source": [
    "features_xgboost = pd.DataFrame(list(zip(X.columns,xgboost_best.feature_importances_))\n",
    "                        ,columns=['feature','importance']) "
   ]
  },
  {
   "cell_type": "markdown",
   "metadata": {},
   "source": [
    "#### Extreme Gradient Boost Classifier Feature Importance"
   ]
  },
  {
   "cell_type": "code",
   "execution_count": 49,
   "metadata": {
    "ExecuteTime": {
     "end_time": "2018-03-26T02:57:25.993634Z",
     "start_time": "2018-03-26T02:57:25.754681Z"
    }
   },
   "outputs": [
    {
     "data": {
      "text/plain": [
       "Text(0,0.5,'Feature importance')"
      ]
     },
     "execution_count": 49,
     "metadata": {},
     "output_type": "execute_result"
    },
    {
     "data": {
      "image/png": "[encoded data removed]",
      "text/plain": [
       "<matplotlib.figure.Figure at 0x10bbddd68>"
      ]
     },
     "metadata": {
      "image/png": {
       "height": 372,
       "width": 400
      }
     },
     "output_type": "display_data"
    }
   ],
   "source": [
    "features_xgboost.plot(kind='bar', title='XGBoost Classifier Feature Importance', \n",
    "                        x='feature', y='importance', fontsize='large')\n",
    "plt.xticks(rotation = 90)\n",
    "plt.xlabel('Features', fontsize='large')\n",
    "plt.ylabel('Feature importance', fontsize='large')"
   ]
  },
  {
   "cell_type": "code",
   "execution_count": 50,
   "metadata": {
    "ExecuteTime": {
     "end_time": "2018-03-26T02:57:26.007145Z",
     "start_time": "2018-03-26T02:57:25.996144Z"
    }
   },
   "outputs": [
    {
     "data": {
      "text/html": [
       "<div>\n",
       "<style>\n",
       "    .dataframe thead tr:only-child th {\n",
       "        text-align: right;\n",
       "    }\n",
       "\n",
       "    .dataframe thead th {\n",
       "        text-align: left;\n",
       "    }\n",
       "\n",
       "    .dataframe tbody tr th {\n",
       "        vertical-align: top;\n",
       "    }\n",
       "</style>\n",
       "<table border=\"1\" class=\"dataframe\">\n",
       "  <thead>\n",
       "    <tr style=\"text-align: right;\">\n",
       "      <th></th>\n",
       "      <th>feature</th>\n",
       "      <th>importance</th>\n",
       "    </tr>\n",
       "  </thead>\n",
       "  <tbody>\n",
       "    <tr>\n",
       "      <th>0</th>\n",
       "      <td>lat</td>\n",
       "      <td>0.080094</td>\n",
       "    </tr>\n",
       "    <tr>\n",
       "      <th>1</th>\n",
       "      <td>lng</td>\n",
       "      <td>0.054181</td>\n",
       "    </tr>\n",
       "    <tr>\n",
       "      <th>2</th>\n",
       "      <td>mobility_score</td>\n",
       "      <td>0.062426</td>\n",
       "    </tr>\n",
       "    <tr>\n",
       "      <th>3</th>\n",
       "      <td>carshare</td>\n",
       "      <td>0.056537</td>\n",
       "    </tr>\n",
       "    <tr>\n",
       "      <th>4</th>\n",
       "      <td>bikeshare</td>\n",
       "      <td>0.144876</td>\n",
       "    </tr>\n",
       "    <tr>\n",
       "      <th>5</th>\n",
       "      <td>ridehailing</td>\n",
       "      <td>0.027091</td>\n",
       "    </tr>\n",
       "    <tr>\n",
       "      <th>6</th>\n",
       "      <td>masstransit</td>\n",
       "      <td>0.217903</td>\n",
       "    </tr>\n",
       "    <tr>\n",
       "      <th>7</th>\n",
       "      <td>closest_ts</td>\n",
       "      <td>0.227326</td>\n",
       "    </tr>\n",
       "    <tr>\n",
       "      <th>8</th>\n",
       "      <td>within_one_tenth</td>\n",
       "      <td>0.049470</td>\n",
       "    </tr>\n",
       "    <tr>\n",
       "      <th>9</th>\n",
       "      <td>within_one_half</td>\n",
       "      <td>0.037691</td>\n",
       "    </tr>\n",
       "    <tr>\n",
       "      <th>10</th>\n",
       "      <td>within_one</td>\n",
       "      <td>0.042403</td>\n",
       "    </tr>\n",
       "  </tbody>\n",
       "</table>\n",
       "</div>"
      ],
      "text/plain": [
       "             feature  importance\n",
       "0                lat    0.080094\n",
       "1                lng    0.054181\n",
       "2     mobility_score    0.062426\n",
       "3           carshare    0.056537\n",
       "4          bikeshare    0.144876\n",
       "5        ridehailing    0.027091\n",
       "6        masstransit    0.217903\n",
       "7         closest_ts    0.227326\n",
       "8   within_one_tenth    0.049470\n",
       "9    within_one_half    0.037691\n",
       "10        within_one    0.042403"
      ]
     },
     "execution_count": 50,
     "metadata": {},
     "output_type": "execute_result"
    }
   ],
   "source": [
    "features_xgboost"
   ]
  },
  {
   "cell_type": "code",
   "execution_count": 51,
   "metadata": {
    "ExecuteTime": {
     "end_time": "2018-03-26T02:57:26.135582Z",
     "start_time": "2018-03-26T02:57:26.128292Z"
    },
    "collapsed": true
   },
   "outputs": [],
   "source": [
    "xgb_pred = xgboost_best.predict(X_test)"
   ]
  },
  {
   "cell_type": "markdown",
   "metadata": {},
   "source": [
    "#### Extreme Gradient Boost Classifier Confusion Matrix"
   ]
  },
  {
   "cell_type": "code",
   "execution_count": 52,
   "metadata": {
    "ExecuteTime": {
     "end_time": "2018-03-26T02:57:26.288805Z",
     "start_time": "2018-03-26T02:57:26.281148Z"
    }
   },
   "outputs": [
    {
     "data": {
      "text/plain": [
       "array([[361, 103],\n",
       "       [ 18,  23]])"
      ]
     },
     "execution_count": 52,
     "metadata": {},
     "output_type": "execute_result"
    }
   ],
   "source": [
    "xgb_CM = confusion_matrix(xgb_pred, y_test)\n",
    "xgb_CM"
   ]
  },
  {
   "cell_type": "markdown",
   "metadata": {},
   "source": [
    "- True positives: 23\n",
    "- False positives: 103\n",
    "- False negatives: 18\n",
    "- True negatives: 361"
   ]
  },
  {
   "cell_type": "markdown",
   "metadata": {},
   "source": [
    "##### Specificity"
   ]
  },
  {
   "cell_type": "code",
   "execution_count": 58,
   "metadata": {},
   "outputs": [
    {
     "name": "stdout",
     "output_type": "stream",
     "text": [
      "0.7780172413793104\n"
     ]
    }
   ],
   "source": [
    "print(361/(361+103))"
   ]
  },
  {
   "cell_type": "markdown",
   "metadata": {},
   "source": [
    "##### Sensitivity"
   ]
  },
  {
   "cell_type": "code",
   "execution_count": 59,
   "metadata": {},
   "outputs": [
    {
     "name": "stdout",
     "output_type": "stream",
     "text": [
      "0.5609756097560976\n"
     ]
    }
   ],
   "source": [
    "print(23/(23+18))"
   ]
  },
  {
   "cell_type": "markdown",
   "metadata": {
    "ExecuteTime": {
     "end_time": "2018-03-26T03:24:04.202501Z",
     "start_time": "2018-03-26T03:24:04.198005Z"
    }
   },
   "source": [
    "#### Extreme Gradient Boost Classifier ROC-AUC Score"
   ]
  },
  {
   "cell_type": "code",
   "execution_count": 53,
   "metadata": {
    "ExecuteTime": {
     "end_time": "2018-03-26T02:57:26.521517Z",
     "start_time": "2018-03-26T02:57:26.515330Z"
    }
   },
   "outputs": [
    {
     "data": {
      "text/plain": [
       "0.56752313942287558"
      ]
     },
     "execution_count": 53,
     "metadata": {},
     "output_type": "execute_result"
    }
   ],
   "source": [
    "roc_auc_score(y_test, xgb_pred)"
   ]
  },
  {
   "cell_type": "markdown",
   "metadata": {},
   "source": [
    "#### Extreme Gradient Boost Classifier Classification Report"
   ]
  },
  {
   "cell_type": "code",
   "execution_count": 54,
   "metadata": {
    "ExecuteTime": {
     "end_time": "2018-03-26T02:57:26.757823Z",
     "start_time": "2018-03-26T02:57:26.749646Z"
    }
   },
   "outputs": [
    {
     "name": "stdout",
     "output_type": "stream",
     "text": [
      "             precision    recall  f1-score   support\n",
      "\n",
      "          0       0.95      0.78      0.86       464\n",
      "          1       0.18      0.56      0.28        41\n",
      "\n",
      "avg / total       0.89      0.76      0.81       505\n",
      "\n"
     ]
    }
   ],
   "source": [
    "print(classification_report(xgb_pred, y_test))"
   ]
  },
  {
   "cell_type": "markdown",
   "metadata": {
    "ExecuteTime": {
     "end_time": "2018-03-26T03:44:27.484934Z",
     "start_time": "2018-03-26T03:44:27.471964Z"
    }
   },
   "source": [
    "- Precision: 89%"
   ]
  },
  {
   "cell_type": "markdown",
   "metadata": {},
   "source": [
    "### Extra Trees Classifier"
   ]
  },
  {
   "cell_type": "code",
   "execution_count": 193,
   "metadata": {},
   "outputs": [
    {
     "name": "stdout",
     "output_type": "stream",
     "text": [
      "Fitting 5 folds for each of 2 candidates, totalling 10 fits\n"
     ]
    },
    {
     "name": "stderr",
     "output_type": "stream",
     "text": [
      "[Parallel(n_jobs=1)]: Done  10 out of  10 | elapsed:    9.2s finished\n"
     ]
    },
    {
     "name": "stdout",
     "output_type": "stream",
     "text": [
      "CPU times: user 9.86 s, sys: 78.8 ms, total: 9.94 s\n",
      "Wall time: 10.1 s\n"
     ]
    }
   ],
   "source": [
    "%%time\n",
    "ext_params = {\n",
    "    'max_features': [2],\n",
    "   'max_depth': [8],\n",
    "    'min_samples_split': [15],\n",
    "    'n_estimators': [800],\n",
    "    'min_samples_leaf': [1],\n",
    "    'criterion': ['entropy'],\n",
    "}\n",
    "\n",
    "ext_gd = GridSearchCV(ExtraTreesClassifier(), ext_params, verbose=1, cv=5)\n",
    "ext_gd.fit(X_train, y_train)"
   ]
  },
  {
   "cell_type": "code",
   "execution_count": 194,
   "metadata": {},
   "outputs": [
    {
     "name": "stdout",
     "output_type": "stream",
     "text": [
      "0.761460101868\n",
      "{'criterion': 'entropy', 'max_depth': 8, 'max_features': 2, 'min_samples_leaf': 1, 'min_samples_split': 15, 'n_estimators': 800}\n"
     ]
    }
   ],
   "source": [
    "print(ext_gd.best_score_)\n",
    "print(ext_gd.best_params_)"
   ]
  },
  {
   "cell_type": "code",
   "execution_count": 55,
   "metadata": {
    "ExecuteTime": {
     "end_time": "2018-03-26T02:57:35.100184Z",
     "start_time": "2018-03-26T02:57:34.181105Z"
    }
   },
   "outputs": [
    {
     "data": {
      "text/plain": [
       "ExtraTreesClassifier(bootstrap=False, class_weight=None, criterion='entropy',\n",
       "           max_depth=8, max_features=2, max_leaf_nodes=None,\n",
       "           min_impurity_decrease=0.0, min_impurity_split=None,\n",
       "           min_samples_leaf=1, min_samples_split=15,\n",
       "           min_weight_fraction_leaf=0.0, n_estimators=800, n_jobs=1,\n",
       "           oob_score=False, random_state=6, verbose=0, warm_start=False)"
      ]
     },
     "execution_count": 55,
     "metadata": {},
     "output_type": "execute_result"
    }
   ],
   "source": [
    "ext_best = ExtraTreesClassifier(max_depth=8, min_samples_leaf=1, n_estimators=800, min_samples_split=15,\n",
    "                            max_features=2, criterion='entropy', random_state=6)\n",
    "ext_best.fit(X_train, y_train)\n"
   ]
  },
  {
   "cell_type": "code",
   "execution_count": 56,
   "metadata": {
    "ExecuteTime": {
     "end_time": "2018-03-26T02:57:39.732784Z",
     "start_time": "2018-03-26T02:57:35.104248Z"
    }
   },
   "outputs": [
    {
     "name": "stdout",
     "output_type": "stream",
     "text": [
      "[ 0.75847458  0.74152542  0.75423729  0.76170213  0.7787234 ]\n",
      "0.75893256401\n"
     ]
    }
   ],
   "source": [
    "ext_scores = cross_val_score(ext_best, X_train, y_train, cv=5)\n",
    "print(ext_scores)\n",
    "print(np.mean(ext_scores)) "
   ]
  },
  {
   "cell_type": "markdown",
   "metadata": {},
   "source": [
    "#### Extra Trees Classifier Feature Importance"
   ]
  },
  {
   "cell_type": "code",
   "execution_count": 57,
   "metadata": {
    "ExecuteTime": {
     "end_time": "2018-03-26T02:57:39.773723Z",
     "start_time": "2018-03-26T02:57:39.734927Z"
    },
    "collapsed": true
   },
   "outputs": [],
   "source": [
    "features_ext = pd.DataFrame(list(zip(X.columns,ext_best.feature_importances_))\n",
    "                        ,columns=['feature','importance']) "
   ]
  },
  {
   "cell_type": "code",
   "execution_count": 58,
   "metadata": {
    "ExecuteTime": {
     "end_time": "2018-03-26T02:57:39.986654Z",
     "start_time": "2018-03-26T02:57:39.775739Z"
    }
   },
   "outputs": [
    {
     "data": {
      "text/plain": [
       "Text(0,0.5,'Feature importance')"
      ]
     },
     "execution_count": 58,
     "metadata": {},
     "output_type": "execute_result"
    },
    {
     "data": {
      "image/png": "[encoded data removed]",
      "text/plain": [
       "<matplotlib.figure.Figure at 0x1a1b2d9a58>"
      ]
     },
     "metadata": {
      "image/png": {
       "height": 372,
       "width": 400
      }
     },
     "output_type": "display_data"
    }
   ],
   "source": [
    "features_ext.plot(kind='bar', title='Extra Trees Classifier Feature Importance', \n",
    "                        x='feature', y='importance', fontsize='large')\n",
    "plt.xticks(rotation = 90)\n",
    "plt.xlabel('Features', fontsize='large')\n",
    "plt.ylabel('Feature importance', fontsize='large')"
   ]
  },
  {
   "cell_type": "code",
   "execution_count": 60,
   "metadata": {
    "ExecuteTime": {
     "end_time": "2018-03-26T02:57:58.717812Z",
     "start_time": "2018-03-26T02:57:58.646955Z"
    },
    "collapsed": true
   },
   "outputs": [],
   "source": [
    "ext_pred = ext_best.predict(X_test)"
   ]
  },
  {
   "cell_type": "markdown",
   "metadata": {
    "ExecuteTime": {
     "end_time": "2018-03-26T03:25:18.469658Z",
     "start_time": "2018-03-26T03:25:18.466086Z"
    }
   },
   "source": [
    "#### Extreme Trees Classifier Confusion Matrix"
   ]
  },
  {
   "cell_type": "code",
   "execution_count": 62,
   "metadata": {
    "ExecuteTime": {
     "end_time": "2018-03-26T02:58:24.933515Z",
     "start_time": "2018-03-26T02:58:24.926120Z"
    }
   },
   "outputs": [
    {
     "data": {
      "text/plain": [
       "array([[371,   8],\n",
       "       [105,  21]])"
      ]
     },
     "execution_count": 62,
     "metadata": {},
     "output_type": "execute_result"
    }
   ],
   "source": [
    "ext_CM = confusion_matrix(y_test, ext_pred)\n",
    "ext_CM"
   ]
  },
  {
   "cell_type": "markdown",
   "metadata": {},
   "source": [
    "- True positives: 21\n",
    "- False negatives: 105\n",
    "- False positives: 8\n",
    "- True negatives: 371"
   ]
  },
  {
   "cell_type": "markdown",
   "metadata": {},
   "source": [
    "##### Specificity"
   ]
  },
  {
   "cell_type": "code",
   "execution_count": 60,
   "metadata": {},
   "outputs": [
    {
     "name": "stdout",
     "output_type": "stream",
     "text": [
      "0.978891820580475\n"
     ]
    }
   ],
   "source": [
    "print(371/(371+8))"
   ]
  },
  {
   "cell_type": "markdown",
   "metadata": {},
   "source": [
    "##### Sensitivity"
   ]
  },
  {
   "cell_type": "code",
   "execution_count": 61,
   "metadata": {},
   "outputs": [
    {
     "name": "stdout",
     "output_type": "stream",
     "text": [
      "0.16666666666666666\n"
     ]
    }
   ],
   "source": [
    "print(21/(21+105))"
   ]
  },
  {
   "cell_type": "markdown",
   "metadata": {},
   "source": [
    "#### Extreme Trees Classifier ROC-AUC Score"
   ]
  },
  {
   "cell_type": "code",
   "execution_count": 63,
   "metadata": {
    "ExecuteTime": {
     "end_time": "2018-03-26T02:58:37.072117Z",
     "start_time": "2018-03-26T02:58:37.064662Z"
    }
   },
   "outputs": [
    {
     "data": {
      "text/plain": [
       "0.57277924362357091"
      ]
     },
     "execution_count": 63,
     "metadata": {},
     "output_type": "execute_result"
    }
   ],
   "source": [
    "roc_auc_score(y_test, ext_pred)"
   ]
  },
  {
   "cell_type": "markdown",
   "metadata": {},
   "source": [
    "#### Extreme Trees Classifier Classification Report"
   ]
  },
  {
   "cell_type": "code",
   "execution_count": 66,
   "metadata": {
    "ExecuteTime": {
     "end_time": "2018-03-26T02:59:03.434932Z",
     "start_time": "2018-03-26T02:59:03.427877Z"
    }
   },
   "outputs": [
    {
     "name": "stdout",
     "output_type": "stream",
     "text": [
      "             precision    recall  f1-score   support\n",
      "\n",
      "          0       0.78      0.98      0.87       379\n",
      "          1       0.72      0.17      0.27       126\n",
      "\n",
      "avg / total       0.77      0.78      0.72       505\n",
      "\n"
     ]
    }
   ],
   "source": [
    "print(classification_report(y_test, ext_pred))"
   ]
  },
  {
   "cell_type": "markdown",
   "metadata": {},
   "source": [
    "- Precision: 77%"
   ]
  },
  {
   "cell_type": "markdown",
   "metadata": {},
   "source": [
    "### Bagging Classifier"
   ]
  },
  {
   "cell_type": "code",
   "execution_count": 23,
   "metadata": {},
   "outputs": [
    {
     "name": "stdout",
     "output_type": "stream",
     "text": [
      "Fitting 5 folds for each of 4 candidates, totalling 20 fits\n"
     ]
    },
    {
     "name": "stderr",
     "output_type": "stream",
     "text": [
      "[Parallel(n_jobs=1)]: Done  20 out of  20 | elapsed:   19.5s finished\n"
     ]
    },
    {
     "name": "stdout",
     "output_type": "stream",
     "text": [
      "CPU times: user 19.8 s, sys: 155 ms, total: 20 s\n",
      "Wall time: 20.3 s\n"
     ]
    }
   ],
   "source": [
    "%%time\n",
    "bag_params = {\n",
    "    'n_estimators':[800],\n",
    "    'max_samples':[50],\n",
    "    'bootstrap':[False],\n",
    "    'bootstrap_features':[True]\n",
    "    \n",
    "}\n",
    "\n",
    "bag_gd = GridSearchCV(BaggingClassifier(), bag_params, verbose=1, cv=5)\n",
    "bag_gd.fit(X_train, y_train)"
   ]
  },
  {
   "cell_type": "code",
   "execution_count": 24,
   "metadata": {},
   "outputs": [
    {
     "name": "stdout",
     "output_type": "stream",
     "text": [
      "0.7682512733446519\n",
      "{'bootstrap': False, 'bootstrap_features': True, 'max_samples': 50, 'n_estimators': 800}\n"
     ]
    }
   ],
   "source": [
    "print(bag_gd.best_score_)\n",
    "print(bag_gd.best_params_)"
   ]
  },
  {
   "cell_type": "code",
   "execution_count": 67,
   "metadata": {
    "ExecuteTime": {
     "end_time": "2018-03-26T02:59:17.300147Z",
     "start_time": "2018-03-26T02:59:16.445383Z"
    }
   },
   "outputs": [
    {
     "data": {
      "text/plain": [
       "BaggingClassifier(base_estimator=None, bootstrap=False,\n",
       "         bootstrap_features=True, max_features=1.0, max_samples=50,\n",
       "         n_estimators=800, n_jobs=1, oob_score=False, random_state=7,\n",
       "         verbose=0, warm_start=False)"
      ]
     },
     "execution_count": 67,
     "metadata": {},
     "output_type": "execute_result"
    }
   ],
   "source": [
    "bag_best = BaggingClassifier(n_estimators=800, max_samples=50,bootstrap=False, bootstrap_features=True, random_state=7)\n",
    "bag_best.fit(X_train, y_train)\n"
   ]
  },
  {
   "cell_type": "code",
   "execution_count": 68,
   "metadata": {
    "ExecuteTime": {
     "end_time": "2018-03-26T02:59:22.001893Z",
     "start_time": "2018-03-26T02:59:17.701010Z"
    }
   },
   "outputs": [
    {
     "name": "stdout",
     "output_type": "stream",
     "text": [
      "[ 0.76694915  0.74576271  0.76271186  0.76170213  0.78297872]\n",
      "0.764020915975\n"
     ]
    }
   ],
   "source": [
    "bag_scores = cross_val_score(bag_best, X_train, y_train, cv=5)\n",
    "print(bag_scores)\n",
    "print(np.mean(bag_scores)) "
   ]
  },
  {
   "cell_type": "code",
   "execution_count": 70,
   "metadata": {
    "ExecuteTime": {
     "end_time": "2018-03-26T02:59:32.314447Z",
     "start_time": "2018-03-26T02:59:32.241879Z"
    },
    "collapsed": true
   },
   "outputs": [],
   "source": [
    "bag_pred = bag_best.predict(X_test)"
   ]
  },
  {
   "cell_type": "markdown",
   "metadata": {},
   "source": [
    "#### Bagging Trees Classifier Confusion Matrix"
   ]
  },
  {
   "cell_type": "code",
   "execution_count": 71,
   "metadata": {
    "ExecuteTime": {
     "end_time": "2018-03-26T02:59:46.491177Z",
     "start_time": "2018-03-26T02:59:46.483881Z"
    }
   },
   "outputs": [
    {
     "data": {
      "text/plain": [
       "array([[365,  14],\n",
       "       [ 99,  27]])"
      ]
     },
     "execution_count": 71,
     "metadata": {},
     "output_type": "execute_result"
    }
   ],
   "source": [
    "bag_CM = confusion_matrix(y_test, bag_pred)\n",
    "bag_CM"
   ]
  },
  {
   "cell_type": "markdown",
   "metadata": {},
   "source": [
    "- True positives: 27\n",
    "- False negatives: 99\n",
    "- False positives: 14\n",
    "- True negatives: 365"
   ]
  },
  {
   "cell_type": "markdown",
   "metadata": {},
   "source": [
    "##### Specificity"
   ]
  },
  {
   "cell_type": "code",
   "execution_count": 63,
   "metadata": {},
   "outputs": [
    {
     "name": "stdout",
     "output_type": "stream",
     "text": [
      "0.9630606860158312\n"
     ]
    }
   ],
   "source": [
    "print(365/(365+14))"
   ]
  },
  {
   "cell_type": "markdown",
   "metadata": {},
   "source": [
    "##### Sensitivity"
   ]
  },
  {
   "cell_type": "code",
   "execution_count": 64,
   "metadata": {},
   "outputs": [
    {
     "name": "stdout",
     "output_type": "stream",
     "text": [
      "0.21428571428571427\n"
     ]
    }
   ],
   "source": [
    "print(27/(27+99))"
   ]
  },
  {
   "cell_type": "markdown",
   "metadata": {},
   "source": [
    "#### Bagging Trees Classifier ROC-AUC Score"
   ]
  },
  {
   "cell_type": "code",
   "execution_count": 72,
   "metadata": {
    "ExecuteTime": {
     "end_time": "2018-03-26T03:00:00.854691Z",
     "start_time": "2018-03-26T03:00:00.848079Z"
    }
   },
   "outputs": [
    {
     "data": {
      "text/plain": [
       "0.58867320015077274"
      ]
     },
     "execution_count": 72,
     "metadata": {},
     "output_type": "execute_result"
    }
   ],
   "source": [
    "roc_auc_score(y_test, bag_pred)"
   ]
  },
  {
   "cell_type": "markdown",
   "metadata": {},
   "source": [
    "#### Bagging Trees Classifier Classification Report"
   ]
  },
  {
   "cell_type": "code",
   "execution_count": 73,
   "metadata": {
    "ExecuteTime": {
     "end_time": "2018-03-26T03:00:53.522770Z",
     "start_time": "2018-03-26T03:00:53.516602Z"
    }
   },
   "outputs": [
    {
     "name": "stdout",
     "output_type": "stream",
     "text": [
      "             precision    recall  f1-score   support\n",
      "\n",
      "          0       0.79      0.96      0.87       379\n",
      "          1       0.66      0.21      0.32       126\n",
      "\n",
      "avg / total       0.75      0.78      0.73       505\n",
      "\n"
     ]
    }
   ],
   "source": [
    "print(classification_report(y_test, bag_pred))"
   ]
  },
  {
   "cell_type": "markdown",
   "metadata": {},
   "source": [
    "- Precision: 75%"
   ]
  },
  {
   "cell_type": "markdown",
   "metadata": {},
   "source": [
    "### Model Evaluation"
   ]
  },
  {
   "cell_type": "markdown",
   "metadata": {},
   "source": [
    "Cross Validation Scores\n",
    "- Logistic Regression: 76.74%\n",
    "- Random Forest Classifier: 76.49%\n",
    "- AdaBoost Classifier: 76.91%\n",
    "- Gradient Boost Classifier: 76.91%\n",
    "- Extreme Gradient Boost Classifier: 76.67%\n",
    "- Extreme Trees Classifier: 75.89%\n",
    "- Bagging Classifier: 76.40%"
   ]
  }
 ],
 "metadata": {
  "kernelspec": {
   "display_name": "Python [conda env:anaconda3]",
   "language": "python",
   "name": "conda-env-anaconda3-py"
  },
  "language_info": {
   "codemirror_mode": {
    "name": "ipython",
    "version": 3
   },
   "file_extension": ".py",
   "mimetype": "text/x-python",
   "name": "python",
   "nbconvert_exporter": "python",
   "pygments_lexer": "ipython3",
   "version": "3.6.4"
  },
  "latex_envs": {
   "LaTeX_envs_menu_present": true,
   "autoclose": false,
   "autocomplete": true,
   "bibliofile": "biblio.bib",
   "cite_by": "apalike",
   "current_citInitial": 1,
   "eqLabelWithNumbers": true,
   "eqNumInitial": 1,
   "hotkeys": {
    "equation": "Ctrl-E",
    "itemize": "Ctrl-I"
   },
   "labels_anchors": false,
   "latex_user_defs": false,
   "report_style_numbering": false,
   "user_envs_cfg": false
  },
  "toc": {
   "nav_menu": {},
   "number_sections": true,
   "sideBar": true,
   "skip_h1_title": false,
   "title_cell": "Table of Contents",
   "title_sidebar": "Contents",
   "toc_cell": false,
   "toc_position": {},
   "toc_section_display": true,
   "toc_window_display": false
  }
 },
 "nbformat": 4,
 "nbformat_minor": 2
}
