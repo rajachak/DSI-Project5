{
 "cells": [
  {
   "cell_type": "code",
   "execution_count": 104,
   "metadata": {},
   "outputs": [],
   "source": [
    "import pandas as pd\n",
    "import numpy as np\n",
    "from sklearn.model_selection import train_test_split\n",
    "from sklearn.model_selection import KFold, cross_val_score, cross_val_predict\n",
    "from sklearn import metrics\n",
    "from sklearn.ensemble import RandomForestClassifier\n",
    "from sklearn.ensemble import AdaBoostClassifier\n",
    "from sklearn.ensemble import GradientBoostingClassifier\n",
    "from sklearn.preprocessing import StandardScaler\n",
    "from keras.models import Sequential\n",
    "from keras.layers import Dense\n",
    "from keras.optimizers import Adam\n",
    "from keras.layers import Dropout\n",
    "import csv\n",
    "import matplotlib.pyplot as plt\n",
    "%matplotlib inline\n",
    "%config InlineBackend.figure_format = 'retina'"
   ]
  },
  {
   "cell_type": "code",
   "execution_count": 105,
   "metadata": {
    "collapsed": true
   },
   "outputs": [],
   "source": [
    "model_data = pd.read_csv('model_data.csv')"
   ]
  },
  {
   "cell_type": "code",
   "execution_count": 106,
   "metadata": {},
   "outputs": [
    {
     "data": {
      "text/plain": [
       "Index(['id', 'name', 'close_date', 'stage', 'address', 'lat', 'lng',\n",
       "       'ts_response', 'mobility_score', 'carshare', 'bikeshare', 'ridehailing',\n",
       "       'masstransit', 'lat_lng', 'closest_ts', 'within_one_tenth',\n",
       "       'within_one_half', 'within_one', 'within_five'],\n",
       "      dtype='object')"
      ]
     },
     "execution_count": 106,
     "metadata": {},
     "output_type": "execute_result"
    }
   ],
   "source": [
    "model_data.columns"
   ]
  },
  {
   "cell_type": "code",
   "execution_count": 107,
   "metadata": {},
   "outputs": [
    {
     "data": {
      "text/plain": [
       "Lost                 926\n",
       "Closed Won           295\n",
       "Deal Signed           97\n",
       "Contract Sent         75\n",
       "Presentation          65\n",
       "Invoice Sent          64\n",
       "Proposal Sent         62\n",
       "Qualified Lead        60\n",
       "Research/Donation     27\n",
       "Contract Expired       8\n",
       "Contract Review        3\n",
       "Pilot                  1\n",
       "Name: stage, dtype: int64"
      ]
     },
     "execution_count": 107,
     "metadata": {},
     "output_type": "execute_result"
    }
   ],
   "source": [
    "#feature engineering\n",
    "#engineer a number out of stage\n",
    "model_data.stage.value_counts()"
   ]
  },
  {
   "cell_type": "code",
   "execution_count": null,
   "metadata": {
    "collapsed": true
   },
   "outputs": [],
   "source": [
    "#Closed, Deal Signed, Invoice Sent = 1; otherwise 0"
   ]
  },
  {
   "cell_type": "code",
   "execution_count": 108,
   "metadata": {
    "collapsed": true
   },
   "outputs": [],
   "source": [
    "def translate_stage(stage):\n",
    "    if stage in ['Closed Won', 'Deal Signed', 'Invoice Sent']:\n",
    "        return(1)\n",
    "    else:\n",
    "        return (0)"
   ]
  },
  {
   "cell_type": "code",
   "execution_count": 109,
   "metadata": {
    "collapsed": true
   },
   "outputs": [],
   "source": [
    "model_data['y'] = model_data['stage'].apply(translate_stage)"
   ]
  },
  {
   "cell_type": "code",
   "execution_count": 195,
   "metadata": {
    "collapsed": true
   },
   "outputs": [],
   "source": [
    "#feature engineering\n",
    "y = model_data['y']\n",
    "X = model_data[['lat',\n",
    "                'lng',\n",
    "                'mobility_score',\n",
    "                'carshare',\n",
    "                'bikeshare',\n",
    "                'ridehailing',\n",
    "                'masstransit',\n",
    "                'closest_ts',\n",
    "                'within_one_tenth',\n",
    "                'within_one_half',\n",
    "                'within_one',\n",
    "                #'within_five'\n",
    "                ]]"
   ]
  },
  {
   "cell_type": "code",
   "execution_count": null,
   "metadata": {
    "collapsed": true
   },
   "outputs": [],
   "source": [
    "#may need to delete outliers here, or put a max on closest_ts"
   ]
  },
  {
   "cell_type": "code",
   "execution_count": 196,
   "metadata": {},
   "outputs": [],
   "source": [
    "X_train, X_test, y_train, y_test = train_test_split(X, y, test_size=0.30, random_state=14)"
   ]
  },
  {
   "cell_type": "code",
   "execution_count": 197,
   "metadata": {},
   "outputs": [
    {
     "name": "stdout",
     "output_type": "stream",
     "text": [
      "0    1227\n",
      "1     456\n",
      "Name: y, dtype: int64\n",
      "0.7290552584670231\n"
     ]
    }
   ],
   "source": [
    "#calculate baseline\n",
    "print (y.value_counts())\n",
    "print (1 - (456 / (1227+456)))"
   ]
  },
  {
   "cell_type": "code",
   "execution_count": 209,
   "metadata": {},
   "outputs": [
    {
     "name": "stdout",
     "output_type": "stream",
     "text": [
      "[0.72264631 0.73536896 0.71173469]\n",
      "0.7232499870177079\n"
     ]
    }
   ],
   "source": [
    "#random forest\n",
    "model = RandomForestClassifier(max_features = 6, max_depth = 20) \n",
    "scores = cross_val_score(model, X_train, y_train, cv=3)\n",
    "print(scores)\n",
    "print(np.mean(scores))"
   ]
  },
  {
   "cell_type": "code",
   "execution_count": 212,
   "metadata": {},
   "outputs": [
    {
     "data": {
      "text/plain": [
       "RandomForestClassifier(bootstrap=True, class_weight=None, criterion='gini',\n",
       "            max_depth=20, max_features=6, max_leaf_nodes=None,\n",
       "            min_impurity_decrease=0.0, min_impurity_split=None,\n",
       "            min_samples_leaf=1, min_samples_split=2,\n",
       "            min_weight_fraction_leaf=0.0, n_estimators=10, n_jobs=1,\n",
       "            oob_score=False, random_state=None, verbose=0,\n",
       "            warm_start=False)"
      ]
     },
     "execution_count": 212,
     "metadata": {},
     "output_type": "execute_result"
    }
   ],
   "source": [
    "model.fit(X_train, y_train)"
   ]
  },
  {
   "cell_type": "code",
   "execution_count": 213,
   "metadata": {},
   "outputs": [
    {
     "data": {
      "text/plain": [
       "0.9422750424448217"
      ]
     },
     "execution_count": 213,
     "metadata": {},
     "output_type": "execute_result"
    }
   ],
   "source": [
    "model.score(X_train, y_train)"
   ]
  },
  {
   "cell_type": "code",
   "execution_count": 214,
   "metadata": {},
   "outputs": [
    {
     "data": {
      "text/plain": [
       "0.7465346534653465"
      ]
     },
     "execution_count": 214,
     "metadata": {},
     "output_type": "execute_result"
    }
   ],
   "source": [
    "model.score(X_test, y_test)"
   ]
  },
  {
   "cell_type": "code",
   "execution_count": 218,
   "metadata": {},
   "outputs": [
    {
     "name": "stdout",
     "output_type": "stream",
     "text": [
      "[0.70483461 0.72264631 0.71683673]\n",
      "0.7147725502414707\n"
     ]
    }
   ],
   "source": [
    "#######GRADIENT BOOSTING model\n",
    "model = GradientBoostingClassifier(max_features = 6, max_depth = 50) \n",
    "scores = cross_val_score(model, X_train, y_train, cv=3)\n",
    "print(scores)\n",
    "print(np.mean(scores))"
   ]
  },
  {
   "cell_type": "code",
   "execution_count": 200,
   "metadata": {},
   "outputs": [
    {
     "name": "stdout",
     "output_type": "stream",
     "text": [
      "[0.72773537 0.74300254 0.75510204]\n",
      "0.7419466514341105\n"
     ]
    }
   ],
   "source": [
    "####### ADABoost model\n",
    "model = AdaBoostClassifier(n_estimators=100) \n",
    "scores = cross_val_score(model, X_train, y_train, cv=3)\n",
    "print(scores)\n",
    "print(np.mean(scores))"
   ]
  },
  {
   "cell_type": "code",
   "execution_count": 201,
   "metadata": {},
   "outputs": [
    {
     "name": "stdout",
     "output_type": "stream",
     "text": [
      "(1178, 11) (1178,)\n",
      "(505, 11) (505,)\n"
     ]
    }
   ],
   "source": [
    "#Create keras Model\n",
    "#X_train, X_test, y_train, y_test = train_test_split(Xtr, ytr, test_size=0.30, random_state=11)\n",
    "print(X_train.shape, y_train.shape)\n",
    "print(X_test.shape, y_test.shape)\n",
    "ss = StandardScaler()\n",
    "X_train = ss.fit_transform(X_train)  #the scaler is fit only to the training data\n",
    "X_test = ss.transform(X_test)\n",
    "\n",
    "model = Sequential()\n",
    "\n",
    "input_units = X_train.shape[1] #number of features in training set\n",
    "hidden_units = input_units   #hidden layer has the same number of nodes as input\n",
    "\n",
    "#first input layer\n",
    "model.add(Dense(hidden_units            \n",
    "                ,input_dim=input_units  \n",
    "                ,activation='relu'\n",
    "                #uncomment this to add L2 regularization\n",
    "                #,kernel_regularizer=regularizers.l2(0.0001) \n",
    "               ))\n",
    "\n",
    "\n",
    "#hidden layer (try with and without)\n",
    "node_reduction = 0\n",
    "model.add(Dense(hidden_units - node_reduction          \n",
    "                ,input_dim=input_units  \n",
    "                ,activation='tanh'\n",
    "                #,kernel_regularizer=regularizers.l2(0.0001) \n",
    "               ))\n",
    "#model.add(Dropout(0.8))\n",
    "\n",
    "#final layer\n",
    "model.add(Dense(1, activation='sigmoid'))\n",
    "\n",
    "model.compile(loss='binary_crossentropy'\n",
    "              ,optimizer='adam'\n",
    "               #added later \n",
    "              ,metrics=['binary_accuracy']\n",
    "             )"
   ]
  },
  {
   "cell_type": "code",
   "execution_count": 202,
   "metadata": {
    "scrolled": true
   },
   "outputs": [
    {
     "name": "stdout",
     "output_type": "stream",
     "text": [
      "Train on 1178 samples, validate on 505 samples\n",
      "Epoch 1/60\n",
      "1178/1178 [==============================] - 1s 799us/step - loss: 0.6671 - binary_accuracy: 0.6927 - val_loss: 0.6187 - val_binary_accuracy: 0.7505\n",
      "Epoch 2/60\n",
      "1178/1178 [==============================] - 0s 55us/step - loss: 0.6278 - binary_accuracy: 0.7173 - val_loss: 0.5969 - val_binary_accuracy: 0.7505\n",
      "Epoch 3/60\n",
      "1178/1178 [==============================] - 0s 56us/step - loss: 0.6030 - binary_accuracy: 0.7216 - val_loss: 0.5821 - val_binary_accuracy: 0.7545\n",
      "Epoch 4/60\n",
      "1178/1178 [==============================] - 0s 52us/step - loss: 0.5853 - binary_accuracy: 0.7258 - val_loss: 0.5712 - val_binary_accuracy: 0.7505\n",
      "Epoch 5/60\n",
      "1178/1178 [==============================] - 0s 58us/step - loss: 0.5716 - binary_accuracy: 0.7343 - val_loss: 0.5650 - val_binary_accuracy: 0.7564\n",
      "Epoch 6/60\n",
      "1178/1178 [==============================] - 0s 57us/step - loss: 0.5619 - binary_accuracy: 0.7394 - val_loss: 0.5593 - val_binary_accuracy: 0.7604\n",
      "Epoch 7/60\n",
      "1178/1178 [==============================] - 0s 56us/step - loss: 0.5539 - binary_accuracy: 0.7479 - val_loss: 0.5560 - val_binary_accuracy: 0.7604\n",
      "Epoch 8/60\n",
      "1178/1178 [==============================] - 0s 58us/step - loss: 0.5485 - binary_accuracy: 0.7589 - val_loss: 0.5534 - val_binary_accuracy: 0.7663\n",
      "Epoch 9/60\n",
      "1178/1178 [==============================] - 0s 58us/step - loss: 0.5436 - binary_accuracy: 0.7581 - val_loss: 0.5513 - val_binary_accuracy: 0.7663\n",
      "Epoch 10/60\n",
      "1178/1178 [==============================] - 0s 55us/step - loss: 0.5401 - binary_accuracy: 0.7640 - val_loss: 0.5501 - val_binary_accuracy: 0.7683\n",
      "Epoch 11/60\n",
      "1178/1178 [==============================] - 0s 54us/step - loss: 0.5381 - binary_accuracy: 0.7674 - val_loss: 0.5489 - val_binary_accuracy: 0.7663\n",
      "Epoch 12/60\n",
      "1178/1178 [==============================] - 0s 56us/step - loss: 0.5352 - binary_accuracy: 0.7674 - val_loss: 0.5487 - val_binary_accuracy: 0.7683\n",
      "Epoch 13/60\n",
      "1178/1178 [==============================] - 0s 52us/step - loss: 0.5339 - binary_accuracy: 0.7683 - val_loss: 0.5472 - val_binary_accuracy: 0.7683\n",
      "Epoch 14/60\n",
      "1178/1178 [==============================] - 0s 56us/step - loss: 0.5330 - binary_accuracy: 0.7691 - val_loss: 0.5470 - val_binary_accuracy: 0.7683\n",
      "Epoch 15/60\n",
      "1178/1178 [==============================] - 0s 56us/step - loss: 0.5315 - binary_accuracy: 0.7683 - val_loss: 0.5466 - val_binary_accuracy: 0.7683\n",
      "Epoch 16/60\n",
      "1178/1178 [==============================] - 0s 56us/step - loss: 0.5301 - binary_accuracy: 0.7708 - val_loss: 0.5461 - val_binary_accuracy: 0.7683\n",
      "Epoch 17/60\n",
      "1178/1178 [==============================] - 0s 55us/step - loss: 0.5282 - binary_accuracy: 0.7683 - val_loss: 0.5450 - val_binary_accuracy: 0.7683\n",
      "Epoch 18/60\n",
      "1178/1178 [==============================] - 0s 54us/step - loss: 0.5273 - binary_accuracy: 0.7691 - val_loss: 0.5442 - val_binary_accuracy: 0.7703\n",
      "Epoch 19/60\n",
      "1178/1178 [==============================] - 0s 58us/step - loss: 0.5263 - binary_accuracy: 0.7691 - val_loss: 0.5434 - val_binary_accuracy: 0.7703\n",
      "Epoch 20/60\n",
      "1178/1178 [==============================] - 0s 57us/step - loss: 0.5251 - binary_accuracy: 0.7708 - val_loss: 0.5425 - val_binary_accuracy: 0.7703\n",
      "Epoch 21/60\n",
      "1178/1178 [==============================] - 0s 55us/step - loss: 0.5241 - binary_accuracy: 0.7699 - val_loss: 0.5427 - val_binary_accuracy: 0.7703\n",
      "Epoch 22/60\n",
      "1178/1178 [==============================] - 0s 55us/step - loss: 0.5238 - binary_accuracy: 0.7708 - val_loss: 0.5417 - val_binary_accuracy: 0.7723\n",
      "Epoch 23/60\n",
      "1178/1178 [==============================] - 0s 57us/step - loss: 0.5231 - binary_accuracy: 0.7716 - val_loss: 0.5414 - val_binary_accuracy: 0.7723\n",
      "Epoch 24/60\n",
      "1178/1178 [==============================] - 0s 55us/step - loss: 0.5226 - binary_accuracy: 0.7716 - val_loss: 0.5412 - val_binary_accuracy: 0.7723\n",
      "Epoch 25/60\n",
      "1178/1178 [==============================] - 0s 58us/step - loss: 0.5213 - binary_accuracy: 0.7708 - val_loss: 0.5421 - val_binary_accuracy: 0.7723\n",
      "Epoch 26/60\n",
      "1178/1178 [==============================] - 0s 63us/step - loss: 0.5197 - binary_accuracy: 0.7716 - val_loss: 0.5399 - val_binary_accuracy: 0.7723\n",
      "Epoch 27/60\n",
      "1178/1178 [==============================] - 0s 60us/step - loss: 0.5193 - binary_accuracy: 0.7716 - val_loss: 0.5403 - val_binary_accuracy: 0.7703\n",
      "Epoch 28/60\n",
      "1178/1178 [==============================] - 0s 59us/step - loss: 0.5187 - binary_accuracy: 0.7708 - val_loss: 0.5400 - val_binary_accuracy: 0.7723\n",
      "Epoch 29/60\n",
      "1178/1178 [==============================] - 0s 59us/step - loss: 0.5185 - binary_accuracy: 0.7716 - val_loss: 0.5400 - val_binary_accuracy: 0.7723\n",
      "Epoch 30/60\n",
      "1178/1178 [==============================] - 0s 59us/step - loss: 0.5176 - binary_accuracy: 0.7716 - val_loss: 0.5392 - val_binary_accuracy: 0.7723\n",
      "Epoch 31/60\n",
      "1178/1178 [==============================] - 0s 60us/step - loss: 0.5173 - binary_accuracy: 0.7716 - val_loss: 0.5401 - val_binary_accuracy: 0.7703\n",
      "Epoch 32/60\n",
      "1178/1178 [==============================] - 0s 59us/step - loss: 0.5159 - binary_accuracy: 0.7725 - val_loss: 0.5391 - val_binary_accuracy: 0.7703\n",
      "Epoch 33/60\n",
      "1178/1178 [==============================] - 0s 58us/step - loss: 0.5150 - binary_accuracy: 0.7725 - val_loss: 0.5383 - val_binary_accuracy: 0.7743\n",
      "Epoch 34/60\n",
      "1178/1178 [==============================] - 0s 58us/step - loss: 0.5153 - binary_accuracy: 0.7725 - val_loss: 0.5389 - val_binary_accuracy: 0.7703\n",
      "Epoch 35/60\n",
      "1178/1178 [==============================] - 0s 63us/step - loss: 0.5145 - binary_accuracy: 0.7742 - val_loss: 0.5386 - val_binary_accuracy: 0.7683\n",
      "Epoch 36/60\n",
      "1178/1178 [==============================] - 0s 63us/step - loss: 0.5134 - binary_accuracy: 0.7742 - val_loss: 0.5385 - val_binary_accuracy: 0.7723\n",
      "Epoch 37/60\n",
      "1178/1178 [==============================] - 0s 61us/step - loss: 0.5123 - binary_accuracy: 0.7742 - val_loss: 0.5390 - val_binary_accuracy: 0.7723\n",
      "Epoch 38/60\n",
      "1178/1178 [==============================] - 0s 58us/step - loss: 0.5118 - binary_accuracy: 0.7742 - val_loss: 0.5383 - val_binary_accuracy: 0.7703\n",
      "Epoch 39/60\n",
      "1178/1178 [==============================] - 0s 60us/step - loss: 0.5122 - binary_accuracy: 0.7742 - val_loss: 0.5379 - val_binary_accuracy: 0.7723\n",
      "Epoch 40/60\n",
      "1178/1178 [==============================] - 0s 61us/step - loss: 0.5116 - binary_accuracy: 0.7742 - val_loss: 0.5383 - val_binary_accuracy: 0.7723\n",
      "Epoch 41/60\n",
      "1178/1178 [==============================] - 0s 58us/step - loss: 0.5108 - binary_accuracy: 0.7742 - val_loss: 0.5389 - val_binary_accuracy: 0.7723\n",
      "Epoch 42/60\n",
      "1178/1178 [==============================] - 0s 58us/step - loss: 0.5102 - binary_accuracy: 0.7742 - val_loss: 0.5381 - val_binary_accuracy: 0.7723\n",
      "Epoch 43/60\n",
      "1178/1178 [==============================] - 0s 62us/step - loss: 0.5096 - binary_accuracy: 0.7750 - val_loss: 0.5383 - val_binary_accuracy: 0.7723\n",
      "Epoch 44/60\n",
      "1178/1178 [==============================] - 0s 60us/step - loss: 0.5095 - binary_accuracy: 0.7759 - val_loss: 0.5383 - val_binary_accuracy: 0.7723\n",
      "Epoch 45/60\n",
      "1178/1178 [==============================] - 0s 59us/step - loss: 0.5088 - binary_accuracy: 0.7733 - val_loss: 0.5382 - val_binary_accuracy: 0.7723\n",
      "Epoch 46/60\n",
      "1178/1178 [==============================] - 0s 61us/step - loss: 0.5081 - binary_accuracy: 0.7750 - val_loss: 0.5383 - val_binary_accuracy: 0.7723\n",
      "Epoch 47/60\n",
      "1178/1178 [==============================] - 0s 57us/step - loss: 0.5078 - binary_accuracy: 0.7742 - val_loss: 0.5382 - val_binary_accuracy: 0.7723\n",
      "Epoch 48/60\n",
      "1178/1178 [==============================] - 0s 58us/step - loss: 0.5079 - binary_accuracy: 0.7742 - val_loss: 0.5383 - val_binary_accuracy: 0.7743\n",
      "Epoch 49/60\n",
      "1178/1178 [==============================] - 0s 57us/step - loss: 0.5078 - binary_accuracy: 0.7767 - val_loss: 0.5379 - val_binary_accuracy: 0.7723\n",
      "Epoch 50/60\n",
      "1178/1178 [==============================] - 0s 63us/step - loss: 0.5072 - binary_accuracy: 0.7759 - val_loss: 0.5378 - val_binary_accuracy: 0.7743\n",
      "Epoch 51/60\n",
      "1178/1178 [==============================] - 0s 61us/step - loss: 0.5065 - binary_accuracy: 0.7759 - val_loss: 0.5389 - val_binary_accuracy: 0.7723\n"
     ]
    },
    {
     "name": "stdout",
     "output_type": "stream",
     "text": [
      "Epoch 52/60\n",
      "1178/1178 [==============================] - 0s 60us/step - loss: 0.5055 - binary_accuracy: 0.7767 - val_loss: 0.5381 - val_binary_accuracy: 0.7743\n",
      "Epoch 53/60\n",
      "1178/1178 [==============================] - 0s 57us/step - loss: 0.5050 - binary_accuracy: 0.7759 - val_loss: 0.5377 - val_binary_accuracy: 0.7743\n",
      "Epoch 54/60\n",
      "1178/1178 [==============================] - 0s 57us/step - loss: 0.5052 - binary_accuracy: 0.7759 - val_loss: 0.5383 - val_binary_accuracy: 0.7723\n",
      "Epoch 55/60\n",
      "1178/1178 [==============================] - 0s 56us/step - loss: 0.5045 - binary_accuracy: 0.7767 - val_loss: 0.5385 - val_binary_accuracy: 0.7723\n",
      "Epoch 56/60\n",
      "1178/1178 [==============================] - 0s 52us/step - loss: 0.5042 - binary_accuracy: 0.7801 - val_loss: 0.5385 - val_binary_accuracy: 0.7723\n",
      "Epoch 57/60\n",
      "1178/1178 [==============================] - 0s 55us/step - loss: 0.5042 - binary_accuracy: 0.7784 - val_loss: 0.5386 - val_binary_accuracy: 0.7723\n",
      "Epoch 58/60\n",
      "1178/1178 [==============================] - 0s 52us/step - loss: 0.5033 - binary_accuracy: 0.7759 - val_loss: 0.5386 - val_binary_accuracy: 0.7723\n",
      "Epoch 59/60\n",
      "1178/1178 [==============================] - 0s 57us/step - loss: 0.5035 - binary_accuracy: 0.7767 - val_loss: 0.5377 - val_binary_accuracy: 0.7723\n",
      "Epoch 60/60\n",
      "1178/1178 [==============================] - 0s 59us/step - loss: 0.5020 - binary_accuracy: 0.7759 - val_loss: 0.5383 - val_binary_accuracy: 0.7723\n"
     ]
    }
   ],
   "source": [
    "#Run Keras model\n",
    "history = model.fit(X_train, y_train, validation_data=(X_test, y_test), \n",
    "               epochs=60, batch_size=None, verbose=1)"
   ]
  },
  {
   "cell_type": "markdown",
   "metadata": {},
   "source": [
    "### Model Score Summary:\n",
    "Random Forest:   crossval score 72.3%\n",
    "Gradient Boost:  crossval score 71.3%\n",
    "ADABoost:        crossval score 74.2%\n",
    "Keras:           validation score 77.2%\n",
    "\n",
    "\n"
   ]
  }
 ],
 "metadata": {
  "kernelspec": {
   "display_name": "Python [conda env:tensorflow]",
   "language": "python",
   "name": "conda-env-tensorflow-py"
  },
  "language_info": {
   "codemirror_mode": {
    "name": "ipython",
    "version": 3
   },
   "file_extension": ".py",
   "mimetype": "text/x-python",
   "name": "python",
   "nbconvert_exporter": "python",
   "pygments_lexer": "ipython3",
   "version": "3.6.4"
  }
 },
 "nbformat": 4,
 "nbformat_minor": 2
}
