{
 "cells": [
  {
   "cell_type": "code",
   "execution_count": 1,
   "metadata": {},
   "outputs": [
    {
     "name": "stderr",
     "output_type": "stream",
     "text": [
      "Using TensorFlow backend.\n"
     ]
    }
   ],
   "source": [
    "import pandas as pd\n",
    "import numpy as np\n",
    "from sklearn.model_selection import train_test_split\n",
    "from sklearn.model_selection import KFold, cross_val_score, cross_val_predict\n",
    "from sklearn import metrics\n",
    "from sklearn.ensemble import RandomForestClassifier\n",
    "from sklearn.ensemble import AdaBoostClassifier\n",
    "from sklearn.ensemble import GradientBoostingClassifier\n",
    "from sklearn.preprocessing import StandardScaler\n",
    "from keras.models import Sequential\n",
    "from keras.layers import Dense\n",
    "from keras.optimizers import Adam\n",
    "from keras.layers import Dropout\n",
    "import csv\n",
    "import matplotlib.pyplot as plt\n",
    "%matplotlib inline\n",
    "%config InlineBackend.figure_format = 'retina'"
   ]
  },
  {
   "cell_type": "code",
   "execution_count": 2,
   "metadata": {
    "collapsed": true
   },
   "outputs": [],
   "source": [
    "model_data = pd.read_csv('model_data.csv')"
   ]
  },
  {
   "cell_type": "code",
   "execution_count": 3,
   "metadata": {},
   "outputs": [
    {
     "data": {
      "text/plain": [
       "Index(['id', 'name', 'close_date', 'stage', 'address', 'lat', 'lng',\n",
       "       'ts_response', 'mobility_score', 'carshare', 'bikeshare', 'ridehailing',\n",
       "       'masstransit', 'lat_lng', 'closest_ts', 'within_one_tenth',\n",
       "       'within_one_half', 'within_one', 'within_five'],\n",
       "      dtype='object')"
      ]
     },
     "execution_count": 3,
     "metadata": {},
     "output_type": "execute_result"
    }
   ],
   "source": [
    "model_data.columns"
   ]
  },
  {
   "cell_type": "code",
   "execution_count": 4,
   "metadata": {},
   "outputs": [
    {
     "data": {
      "text/plain": [
       "Lost                 926\n",
       "Closed Won           295\n",
       "Deal Signed           97\n",
       "Contract Sent         75\n",
       "Presentation          65\n",
       "Invoice Sent          64\n",
       "Proposal Sent         62\n",
       "Qualified Lead        60\n",
       "Research/Donation     27\n",
       "Contract Expired       8\n",
       "Contract Review        3\n",
       "Pilot                  1\n",
       "Name: stage, dtype: int64"
      ]
     },
     "execution_count": 4,
     "metadata": {},
     "output_type": "execute_result"
    }
   ],
   "source": [
    "#feature engineering\n",
    "#engineer a number out of stage\n",
    "model_data.stage.value_counts()"
   ]
  },
  {
   "cell_type": "code",
   "execution_count": null,
   "metadata": {
    "collapsed": true
   },
   "outputs": [],
   "source": [
    "#Closed, Deal Signed, Invoice Sent = 1; otherwise 0"
   ]
  },
  {
   "cell_type": "code",
   "execution_count": 8,
   "metadata": {
    "collapsed": true
   },
   "outputs": [],
   "source": [
    "def translate_stage(stage):\n",
    "    if stage in ['Closed Won', 'Deal Signed', 'Invoice Sent']:\n",
    "        return(1)\n",
    "    else:\n",
    "        return (0)"
   ]
  },
  {
   "cell_type": "code",
   "execution_count": 9,
   "metadata": {
    "collapsed": true
   },
   "outputs": [],
   "source": [
    "model_data['y'] = model_data['stage'].apply(translate_stage)"
   ]
  },
  {
   "cell_type": "code",
   "execution_count": 92,
   "metadata": {
    "collapsed": true
   },
   "outputs": [],
   "source": [
    "#feature engineering\n",
    "y = model_data['y']\n",
    "X = model_data[['lat',\n",
    "                'lng',\n",
    "                'mobility_score',\n",
    "                'carshare',\n",
    "                'bikeshare',\n",
    "                'ridehailing',\n",
    "                'masstransit',\n",
    "                'closest_ts',\n",
    "                'within_one_tenth',\n",
    "                'within_one_half',\n",
    "                'within_one',\n",
    "                'within_five'\n",
    "                ]]"
   ]
  },
  {
   "cell_type": "code",
   "execution_count": null,
   "metadata": {
    "collapsed": true
   },
   "outputs": [],
   "source": [
    "#may need to delete outliers here, or put a max on closest_ts"
   ]
  },
  {
   "cell_type": "code",
   "execution_count": 93,
   "metadata": {},
   "outputs": [],
   "source": [
    "X_train, X_test, y_train, y_test = train_test_split(X, y, test_size=0.30, random_state=14)"
   ]
  },
  {
   "cell_type": "code",
   "execution_count": 94,
   "metadata": {},
   "outputs": [
    {
     "name": "stdout",
     "output_type": "stream",
     "text": [
      "0    1227\n",
      "1     456\n",
      "Name: y, dtype: int64\n",
      "0.7290552584670231\n"
     ]
    }
   ],
   "source": [
    "#calculate baseline\n",
    "print (y.value_counts())\n",
    "print (1 - (456 / (1227+456)))"
   ]
  },
  {
   "cell_type": "code",
   "execution_count": 95,
   "metadata": {},
   "outputs": [
    {
     "name": "stdout",
     "output_type": "stream",
     "text": [
      "[0.70483461 0.71501272 0.70408163]\n",
      "0.7079763202991121\n"
     ]
    }
   ],
   "source": [
    "#random forest\n",
    "model = RandomForestClassifier(max_features = 6, max_depth = 20) \n",
    "scores = cross_val_score(model, X_train, y_train, cv=3)\n",
    "print(scores)\n",
    "print(np.mean(scores))"
   ]
  },
  {
   "cell_type": "code",
   "execution_count": 83,
   "metadata": {},
   "outputs": [
    {
     "name": "stdout",
     "output_type": "stream",
     "text": [
      "[0.70229008 0.70737913 0.73214286]\n",
      "0.7139373561129286\n"
     ]
    }
   ],
   "source": [
    "#######GRADIENT BOOSTING model\n",
    "model = GradientBoostingClassifier(max_features = 6, max_depth = 100) \n",
    "scores = cross_val_score(model, X_train, y_train, cv=3)\n",
    "print(scores)\n",
    "print(np.mean(scores))"
   ]
  },
  {
   "cell_type": "code",
   "execution_count": 84,
   "metadata": {},
   "outputs": [
    {
     "name": "stdout",
     "output_type": "stream",
     "text": [
      "[0.72773537 0.73791349 0.7627551 ]\n",
      "0.7428013190008828\n"
     ]
    }
   ],
   "source": [
    "####### ADABoost model\n",
    "model = AdaBoostClassifier(n_estimators=100) \n",
    "scores = cross_val_score(model, X_train, y_train, cv=3)\n",
    "print(scores)\n",
    "print(np.mean(scores))"
   ]
  },
  {
   "cell_type": "code",
   "execution_count": 102,
   "metadata": {},
   "outputs": [
    {
     "name": "stdout",
     "output_type": "stream",
     "text": [
      "(1178, 12) (1178,)\n",
      "(505, 12) (505,)\n"
     ]
    }
   ],
   "source": [
    "#Create keras Model\n",
    "#X_train, X_test, y_train, y_test = train_test_split(Xtr, ytr, test_size=0.30, random_state=11)\n",
    "print(X_train.shape, y_train.shape)\n",
    "print(X_test.shape, y_test.shape)\n",
    "ss = StandardScaler()\n",
    "X_train = ss.fit_transform(X_train)  #the scaler is fit only to the training data\n",
    "X_test = ss.transform(X_test)\n",
    "\n",
    "model = Sequential()\n",
    "\n",
    "input_units = X_train.shape[1] #number of features in training set\n",
    "hidden_units = input_units   #hidden layer has the same number of nodes as input\n",
    "\n",
    "#first input layer\n",
    "model.add(Dense(hidden_units            \n",
    "                ,input_dim=input_units  \n",
    "                ,activation='relu'\n",
    "                #uncomment this to add L2 regularization\n",
    "                #,kernel_regularizer=regularizers.l2(0.0001) \n",
    "               ))\n",
    "\n",
    "\n",
    "#hidden layer (try with and without)\n",
    "node_reduction = 0\n",
    "model.add(Dense(hidden_units - node_reduction          \n",
    "                ,input_dim=input_units  \n",
    "                ,activation='tanh'\n",
    "                #,kernel_regularizer=regularizers.l2(0.0001) \n",
    "               ))\n",
    "#model.add(Dropout(0.8))\n",
    "\n",
    "#final layer\n",
    "model.add(Dense(1, activation='sigmoid'))\n",
    "\n",
    "model.compile(loss='binary_crossentropy'\n",
    "              ,optimizer='adam'\n",
    "               #added later \n",
    "              ,metrics=['binary_accuracy']\n",
    "             )"
   ]
  },
  {
   "cell_type": "code",
   "execution_count": 103,
   "metadata": {},
   "outputs": [
    {
     "name": "stdout",
     "output_type": "stream",
     "text": [
      "Train on 1178 samples, validate on 505 samples\n",
      "Epoch 1/60\n",
      "1178/1178 [==============================] - 1s 767us/step - loss: 0.6203 - binary_accuracy: 0.6800 - val_loss: 0.5787 - val_binary_accuracy: 0.7545\n",
      "Epoch 2/60\n",
      "1178/1178 [==============================] - 0s 51us/step - loss: 0.5786 - binary_accuracy: 0.7326 - val_loss: 0.5536 - val_binary_accuracy: 0.7564\n",
      "Epoch 3/60\n",
      "1178/1178 [==============================] - 0s 54us/step - loss: 0.5631 - binary_accuracy: 0.7317 - val_loss: 0.5428 - val_binary_accuracy: 0.7584\n",
      "Epoch 4/60\n",
      "1178/1178 [==============================] - 0s 51us/step - loss: 0.5524 - binary_accuracy: 0.7504 - val_loss: 0.5391 - val_binary_accuracy: 0.7644\n",
      "Epoch 5/60\n",
      "1178/1178 [==============================] - 0s 55us/step - loss: 0.5456 - binary_accuracy: 0.7606 - val_loss: 0.5355 - val_binary_accuracy: 0.7624\n",
      "Epoch 6/60\n",
      "1178/1178 [==============================] - 0s 51us/step - loss: 0.5402 - binary_accuracy: 0.7657 - val_loss: 0.5341 - val_binary_accuracy: 0.7644\n",
      "Epoch 7/60\n",
      "1178/1178 [==============================] - 0s 56us/step - loss: 0.5365 - binary_accuracy: 0.7674 - val_loss: 0.5356 - val_binary_accuracy: 0.7604\n",
      "Epoch 8/60\n",
      "1178/1178 [==============================] - 0s 51us/step - loss: 0.5343 - binary_accuracy: 0.7716 - val_loss: 0.5351 - val_binary_accuracy: 0.7604\n",
      "Epoch 9/60\n",
      "1178/1178 [==============================] - 0s 55us/step - loss: 0.5325 - binary_accuracy: 0.7691 - val_loss: 0.5353 - val_binary_accuracy: 0.7604\n",
      "Epoch 10/60\n",
      "1178/1178 [==============================] - 0s 55us/step - loss: 0.5308 - binary_accuracy: 0.7691 - val_loss: 0.5359 - val_binary_accuracy: 0.7584\n",
      "Epoch 11/60\n",
      "1178/1178 [==============================] - 0s 55us/step - loss: 0.5296 - binary_accuracy: 0.7716 - val_loss: 0.5361 - val_binary_accuracy: 0.7604\n",
      "Epoch 12/60\n",
      "1178/1178 [==============================] - 0s 51us/step - loss: 0.5288 - binary_accuracy: 0.7708 - val_loss: 0.5363 - val_binary_accuracy: 0.7604\n",
      "Epoch 13/60\n",
      "1178/1178 [==============================] - 0s 55us/step - loss: 0.5275 - binary_accuracy: 0.7725 - val_loss: 0.5376 - val_binary_accuracy: 0.7604\n",
      "Epoch 14/60\n",
      "1178/1178 [==============================] - 0s 54us/step - loss: 0.5268 - binary_accuracy: 0.7716 - val_loss: 0.5377 - val_binary_accuracy: 0.7604\n",
      "Epoch 15/60\n",
      "1178/1178 [==============================] - 0s 50us/step - loss: 0.5258 - binary_accuracy: 0.7733 - val_loss: 0.5377 - val_binary_accuracy: 0.7624\n",
      "Epoch 16/60\n",
      "1178/1178 [==============================] - 0s 54us/step - loss: 0.5250 - binary_accuracy: 0.7725 - val_loss: 0.5386 - val_binary_accuracy: 0.7624\n",
      "Epoch 17/60\n",
      "1178/1178 [==============================] - 0s 50us/step - loss: 0.5242 - binary_accuracy: 0.7725 - val_loss: 0.5384 - val_binary_accuracy: 0.7624\n",
      "Epoch 18/60\n",
      "1178/1178 [==============================] - 0s 54us/step - loss: 0.5239 - binary_accuracy: 0.7716 - val_loss: 0.5385 - val_binary_accuracy: 0.7624\n",
      "Epoch 19/60\n",
      "1178/1178 [==============================] - 0s 54us/step - loss: 0.5230 - binary_accuracy: 0.7733 - val_loss: 0.5397 - val_binary_accuracy: 0.7624\n",
      "Epoch 20/60\n",
      "1178/1178 [==============================] - 0s 51us/step - loss: 0.5226 - binary_accuracy: 0.7725 - val_loss: 0.5401 - val_binary_accuracy: 0.7604\n",
      "Epoch 21/60\n",
      "1178/1178 [==============================] - 0s 56us/step - loss: 0.5217 - binary_accuracy: 0.7742 - val_loss: 0.5400 - val_binary_accuracy: 0.7624\n",
      "Epoch 22/60\n",
      "1178/1178 [==============================] - 0s 51us/step - loss: 0.5213 - binary_accuracy: 0.7742 - val_loss: 0.5399 - val_binary_accuracy: 0.7624\n",
      "Epoch 23/60\n",
      "1178/1178 [==============================] - 0s 54us/step - loss: 0.5208 - binary_accuracy: 0.7759 - val_loss: 0.5406 - val_binary_accuracy: 0.7624\n",
      "Epoch 24/60\n",
      "1178/1178 [==============================] - 0s 55us/step - loss: 0.5201 - binary_accuracy: 0.7733 - val_loss: 0.5405 - val_binary_accuracy: 0.7624\n",
      "Epoch 25/60\n",
      "1178/1178 [==============================] - 0s 51us/step - loss: 0.5193 - binary_accuracy: 0.7742 - val_loss: 0.5411 - val_binary_accuracy: 0.7624\n",
      "Epoch 26/60\n",
      "1178/1178 [==============================] - 0s 56us/step - loss: 0.5187 - binary_accuracy: 0.7733 - val_loss: 0.5416 - val_binary_accuracy: 0.7624\n",
      "Epoch 27/60\n",
      "1178/1178 [==============================] - 0s 60us/step - loss: 0.5184 - binary_accuracy: 0.7742 - val_loss: 0.5415 - val_binary_accuracy: 0.7624\n",
      "Epoch 28/60\n",
      "1178/1178 [==============================] - 0s 60us/step - loss: 0.5180 - binary_accuracy: 0.7733 - val_loss: 0.5418 - val_binary_accuracy: 0.7624\n",
      "Epoch 29/60\n",
      "1178/1178 [==============================] - 0s 60us/step - loss: 0.5173 - binary_accuracy: 0.7725 - val_loss: 0.5426 - val_binary_accuracy: 0.7604\n",
      "Epoch 30/60\n",
      "1178/1178 [==============================] - 0s 57us/step - loss: 0.5174 - binary_accuracy: 0.7733 - val_loss: 0.5417 - val_binary_accuracy: 0.7624\n",
      "Epoch 31/60\n",
      "1178/1178 [==============================] - 0s 57us/step - loss: 0.5161 - binary_accuracy: 0.7742 - val_loss: 0.5422 - val_binary_accuracy: 0.7624\n",
      "Epoch 32/60\n",
      "1178/1178 [==============================] - 0s 55us/step - loss: 0.5158 - binary_accuracy: 0.7742 - val_loss: 0.5424 - val_binary_accuracy: 0.7604\n",
      "Epoch 33/60\n",
      "1178/1178 [==============================] - 0s 55us/step - loss: 0.5157 - binary_accuracy: 0.7742 - val_loss: 0.5428 - val_binary_accuracy: 0.7624\n",
      "Epoch 34/60\n",
      "1178/1178 [==============================] - 0s 56us/step - loss: 0.5147 - binary_accuracy: 0.7742 - val_loss: 0.5419 - val_binary_accuracy: 0.7624\n",
      "Epoch 35/60\n",
      "1178/1178 [==============================] - 0s 54us/step - loss: 0.5147 - binary_accuracy: 0.7750 - val_loss: 0.5424 - val_binary_accuracy: 0.7624\n",
      "Epoch 36/60\n",
      "1178/1178 [==============================] - 0s 55us/step - loss: 0.5144 - binary_accuracy: 0.7733 - val_loss: 0.5430 - val_binary_accuracy: 0.7604\n",
      "Epoch 37/60\n",
      "1178/1178 [==============================] - 0s 56us/step - loss: 0.5138 - binary_accuracy: 0.7750 - val_loss: 0.5426 - val_binary_accuracy: 0.7604\n",
      "Epoch 38/60\n",
      "1178/1178 [==============================] - 0s 57us/step - loss: 0.5137 - binary_accuracy: 0.7759 - val_loss: 0.5427 - val_binary_accuracy: 0.7624\n",
      "Epoch 39/60\n",
      "1178/1178 [==============================] - 0s 58us/step - loss: 0.5133 - binary_accuracy: 0.7759 - val_loss: 0.5427 - val_binary_accuracy: 0.7604\n",
      "Epoch 40/60\n",
      "1178/1178 [==============================] - 0s 52us/step - loss: 0.5134 - binary_accuracy: 0.7742 - val_loss: 0.5426 - val_binary_accuracy: 0.7624\n",
      "Epoch 41/60\n",
      "1178/1178 [==============================] - 0s 58us/step - loss: 0.5132 - binary_accuracy: 0.7759 - val_loss: 0.5433 - val_binary_accuracy: 0.7604\n",
      "Epoch 42/60\n",
      "1178/1178 [==============================] - 0s 54us/step - loss: 0.5124 - binary_accuracy: 0.7742 - val_loss: 0.5435 - val_binary_accuracy: 0.7584\n",
      "Epoch 43/60\n",
      "1178/1178 [==============================] - 0s 50us/step - loss: 0.5116 - binary_accuracy: 0.7759 - val_loss: 0.5434 - val_binary_accuracy: 0.7604\n",
      "Epoch 44/60\n",
      "1178/1178 [==============================] - 0s 52us/step - loss: 0.5116 - binary_accuracy: 0.7733 - val_loss: 0.5431 - val_binary_accuracy: 0.7624\n",
      "Epoch 45/60\n",
      "1178/1178 [==============================] - 0s 54us/step - loss: 0.5116 - binary_accuracy: 0.7716 - val_loss: 0.5438 - val_binary_accuracy: 0.7584\n",
      "Epoch 46/60\n",
      "1178/1178 [==============================] - 0s 60us/step - loss: 0.5112 - binary_accuracy: 0.7759 - val_loss: 0.5433 - val_binary_accuracy: 0.7604\n",
      "Epoch 47/60\n",
      "1178/1178 [==============================] - 0s 59us/step - loss: 0.5106 - binary_accuracy: 0.7742 - val_loss: 0.5429 - val_binary_accuracy: 0.7624\n",
      "Epoch 48/60\n",
      "1178/1178 [==============================] - 0s 61us/step - loss: 0.5100 - binary_accuracy: 0.7759 - val_loss: 0.5442 - val_binary_accuracy: 0.7604\n",
      "Epoch 49/60\n",
      "1178/1178 [==============================] - 0s 57us/step - loss: 0.5097 - binary_accuracy: 0.7750 - val_loss: 0.5442 - val_binary_accuracy: 0.7604\n",
      "Epoch 50/60\n",
      "1178/1178 [==============================] - 0s 56us/step - loss: 0.5090 - binary_accuracy: 0.7750 - val_loss: 0.5436 - val_binary_accuracy: 0.7604\n",
      "Epoch 51/60\n",
      "1178/1178 [==============================] - 0s 57us/step - loss: 0.5096 - binary_accuracy: 0.7750 - val_loss: 0.5445 - val_binary_accuracy: 0.7604\n"
     ]
    },
    {
     "name": "stdout",
     "output_type": "stream",
     "text": [
      "Epoch 52/60\n",
      "1178/1178 [==============================] - 0s 57us/step - loss: 0.5089 - binary_accuracy: 0.7750 - val_loss: 0.5438 - val_binary_accuracy: 0.7604\n",
      "Epoch 53/60\n",
      "1178/1178 [==============================] - 0s 52us/step - loss: 0.5085 - binary_accuracy: 0.7750 - val_loss: 0.5434 - val_binary_accuracy: 0.7604\n",
      "Epoch 54/60\n",
      "1178/1178 [==============================] - 0s 56us/step - loss: 0.5086 - binary_accuracy: 0.7750 - val_loss: 0.5440 - val_binary_accuracy: 0.7604\n",
      "Epoch 55/60\n",
      "1178/1178 [==============================] - 0s 56us/step - loss: 0.5077 - binary_accuracy: 0.7750 - val_loss: 0.5442 - val_binary_accuracy: 0.7604\n",
      "Epoch 56/60\n",
      "1178/1178 [==============================] - 0s 55us/step - loss: 0.5071 - binary_accuracy: 0.7750 - val_loss: 0.5447 - val_binary_accuracy: 0.7584\n",
      "Epoch 57/60\n",
      "1178/1178 [==============================] - 0s 54us/step - loss: 0.5068 - binary_accuracy: 0.7742 - val_loss: 0.5438 - val_binary_accuracy: 0.7604\n",
      "Epoch 58/60\n",
      "1178/1178 [==============================] - 0s 58us/step - loss: 0.5077 - binary_accuracy: 0.7767 - val_loss: 0.5441 - val_binary_accuracy: 0.7604\n",
      "Epoch 59/60\n",
      "1178/1178 [==============================] - 0s 56us/step - loss: 0.5070 - binary_accuracy: 0.7750 - val_loss: 0.5445 - val_binary_accuracy: 0.7604\n",
      "Epoch 60/60\n",
      "1178/1178 [==============================] - 0s 55us/step - loss: 0.5060 - binary_accuracy: 0.7750 - val_loss: 0.5443 - val_binary_accuracy: 0.7604\n"
     ]
    }
   ],
   "source": [
    "#Run Keras model\n",
    "history = model.fit(X_train, y_train, validation_data=(X_test, y_test), \n",
    "               epochs=60, batch_size=None, verbose=1)"
   ]
  }
 ],
 "metadata": {
  "kernelspec": {
   "display_name": "Python [conda env:tensorflow]",
   "language": "python",
   "name": "conda-env-tensorflow-py"
  },
  "language_info": {
   "codemirror_mode": {
    "name": "ipython",
    "version": 3
   },
   "file_extension": ".py",
   "mimetype": "text/x-python",
   "name": "python",
   "nbconvert_exporter": "python",
   "pygments_lexer": "ipython3",
   "version": "3.6.4"
  }
 },
 "nbformat": 4,
 "nbformat_minor": 2
}
